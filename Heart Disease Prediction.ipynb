{
 "cells": [
  {
   "cell_type": "markdown",
   "metadata": {},
   "source": [
    "**Import Libraries**"
   ]
  },
  {
   "cell_type": "code",
   "execution_count": 2,
   "metadata": {
    "_cell_guid": "79c7e3d0-c299-4dcb-8224-4455121ee9b0",
    "_uuid": "d629ff2d2480ee46fbb7e2d37f6b5fab8052498a"
   },
   "outputs": [],
   "source": [
    "import numpy as np \n",
    "import pandas as pd\n",
    "import matplotlib.pyplot as plt\n",
    "from sklearn.model_selection import train_test_split\n",
    "from sklearn.preprocessing import StandardScaler\n",
    "from sklearn.model_selection import GridSearchCV\n",
    "from sklearn.linear_model import LogisticRegression\n",
    "from sklearn.neighbors import KNeighborsClassifier\n",
    "from sklearn.svm import SVC\n",
    "from sklearn.metrics import accuracy_score\n",
    "from sklearn.tree import DecisionTreeClassifier\n",
    "from sklearn.ensemble import RandomForestClassifier\n",
    "from sklearn.ensemble import AdaBoostClassifier\n",
    "from xgboost import XGBClassifier\n",
    "from sklearn.ensemble import GradientBoostingClassifier\n",
    "from sklearn.metrics import plot_confusion_matrix"
   ]
  },
  {
   "cell_type": "markdown",
   "metadata": {},
   "source": [
    "**Load Data**"
   ]
  },
  {
   "cell_type": "code",
   "execution_count": 3,
   "metadata": {},
   "outputs": [
    {
     "data": {
      "text/html": [
       "<div>\n",
       "<style scoped>\n",
       "    .dataframe tbody tr th:only-of-type {\n",
       "        vertical-align: middle;\n",
       "    }\n",
       "\n",
       "    .dataframe tbody tr th {\n",
       "        vertical-align: top;\n",
       "    }\n",
       "\n",
       "    .dataframe thead th {\n",
       "        text-align: right;\n",
       "    }\n",
       "</style>\n",
       "<table border=\"1\" class=\"dataframe\">\n",
       "  <thead>\n",
       "    <tr style=\"text-align: right;\">\n",
       "      <th></th>\n",
       "      <th>age</th>\n",
       "      <th>sex</th>\n",
       "      <th>cp</th>\n",
       "      <th>trestbps</th>\n",
       "      <th>chol</th>\n",
       "      <th>fbs</th>\n",
       "      <th>restecg</th>\n",
       "      <th>thalach</th>\n",
       "      <th>exang</th>\n",
       "      <th>oldpeak</th>\n",
       "      <th>slope</th>\n",
       "      <th>ca</th>\n",
       "      <th>thal</th>\n",
       "      <th>target</th>\n",
       "    </tr>\n",
       "  </thead>\n",
       "  <tbody>\n",
       "    <tr>\n",
       "      <th>0</th>\n",
       "      <td>63</td>\n",
       "      <td>1</td>\n",
       "      <td>3</td>\n",
       "      <td>145</td>\n",
       "      <td>233</td>\n",
       "      <td>1</td>\n",
       "      <td>0</td>\n",
       "      <td>150</td>\n",
       "      <td>0</td>\n",
       "      <td>2.3</td>\n",
       "      <td>0</td>\n",
       "      <td>0</td>\n",
       "      <td>1</td>\n",
       "      <td>1</td>\n",
       "    </tr>\n",
       "    <tr>\n",
       "      <th>1</th>\n",
       "      <td>37</td>\n",
       "      <td>1</td>\n",
       "      <td>2</td>\n",
       "      <td>130</td>\n",
       "      <td>250</td>\n",
       "      <td>0</td>\n",
       "      <td>1</td>\n",
       "      <td>187</td>\n",
       "      <td>0</td>\n",
       "      <td>3.5</td>\n",
       "      <td>0</td>\n",
       "      <td>0</td>\n",
       "      <td>2</td>\n",
       "      <td>1</td>\n",
       "    </tr>\n",
       "    <tr>\n",
       "      <th>2</th>\n",
       "      <td>41</td>\n",
       "      <td>0</td>\n",
       "      <td>1</td>\n",
       "      <td>130</td>\n",
       "      <td>204</td>\n",
       "      <td>0</td>\n",
       "      <td>0</td>\n",
       "      <td>172</td>\n",
       "      <td>0</td>\n",
       "      <td>1.4</td>\n",
       "      <td>2</td>\n",
       "      <td>0</td>\n",
       "      <td>2</td>\n",
       "      <td>1</td>\n",
       "    </tr>\n",
       "    <tr>\n",
       "      <th>3</th>\n",
       "      <td>56</td>\n",
       "      <td>1</td>\n",
       "      <td>1</td>\n",
       "      <td>120</td>\n",
       "      <td>236</td>\n",
       "      <td>0</td>\n",
       "      <td>1</td>\n",
       "      <td>178</td>\n",
       "      <td>0</td>\n",
       "      <td>0.8</td>\n",
       "      <td>2</td>\n",
       "      <td>0</td>\n",
       "      <td>2</td>\n",
       "      <td>1</td>\n",
       "    </tr>\n",
       "    <tr>\n",
       "      <th>4</th>\n",
       "      <td>57</td>\n",
       "      <td>0</td>\n",
       "      <td>0</td>\n",
       "      <td>120</td>\n",
       "      <td>354</td>\n",
       "      <td>0</td>\n",
       "      <td>1</td>\n",
       "      <td>163</td>\n",
       "      <td>1</td>\n",
       "      <td>0.6</td>\n",
       "      <td>2</td>\n",
       "      <td>0</td>\n",
       "      <td>2</td>\n",
       "      <td>1</td>\n",
       "    </tr>\n",
       "    <tr>\n",
       "      <th>...</th>\n",
       "      <td>...</td>\n",
       "      <td>...</td>\n",
       "      <td>...</td>\n",
       "      <td>...</td>\n",
       "      <td>...</td>\n",
       "      <td>...</td>\n",
       "      <td>...</td>\n",
       "      <td>...</td>\n",
       "      <td>...</td>\n",
       "      <td>...</td>\n",
       "      <td>...</td>\n",
       "      <td>...</td>\n",
       "      <td>...</td>\n",
       "      <td>...</td>\n",
       "    </tr>\n",
       "    <tr>\n",
       "      <th>298</th>\n",
       "      <td>57</td>\n",
       "      <td>0</td>\n",
       "      <td>0</td>\n",
       "      <td>140</td>\n",
       "      <td>241</td>\n",
       "      <td>0</td>\n",
       "      <td>1</td>\n",
       "      <td>123</td>\n",
       "      <td>1</td>\n",
       "      <td>0.2</td>\n",
       "      <td>1</td>\n",
       "      <td>0</td>\n",
       "      <td>3</td>\n",
       "      <td>0</td>\n",
       "    </tr>\n",
       "    <tr>\n",
       "      <th>299</th>\n",
       "      <td>45</td>\n",
       "      <td>1</td>\n",
       "      <td>3</td>\n",
       "      <td>110</td>\n",
       "      <td>264</td>\n",
       "      <td>0</td>\n",
       "      <td>1</td>\n",
       "      <td>132</td>\n",
       "      <td>0</td>\n",
       "      <td>1.2</td>\n",
       "      <td>1</td>\n",
       "      <td>0</td>\n",
       "      <td>3</td>\n",
       "      <td>0</td>\n",
       "    </tr>\n",
       "    <tr>\n",
       "      <th>300</th>\n",
       "      <td>68</td>\n",
       "      <td>1</td>\n",
       "      <td>0</td>\n",
       "      <td>144</td>\n",
       "      <td>193</td>\n",
       "      <td>1</td>\n",
       "      <td>1</td>\n",
       "      <td>141</td>\n",
       "      <td>0</td>\n",
       "      <td>3.4</td>\n",
       "      <td>1</td>\n",
       "      <td>2</td>\n",
       "      <td>3</td>\n",
       "      <td>0</td>\n",
       "    </tr>\n",
       "    <tr>\n",
       "      <th>301</th>\n",
       "      <td>57</td>\n",
       "      <td>1</td>\n",
       "      <td>0</td>\n",
       "      <td>130</td>\n",
       "      <td>131</td>\n",
       "      <td>0</td>\n",
       "      <td>1</td>\n",
       "      <td>115</td>\n",
       "      <td>1</td>\n",
       "      <td>1.2</td>\n",
       "      <td>1</td>\n",
       "      <td>1</td>\n",
       "      <td>3</td>\n",
       "      <td>0</td>\n",
       "    </tr>\n",
       "    <tr>\n",
       "      <th>302</th>\n",
       "      <td>57</td>\n",
       "      <td>0</td>\n",
       "      <td>1</td>\n",
       "      <td>130</td>\n",
       "      <td>236</td>\n",
       "      <td>0</td>\n",
       "      <td>0</td>\n",
       "      <td>174</td>\n",
       "      <td>0</td>\n",
       "      <td>0.0</td>\n",
       "      <td>1</td>\n",
       "      <td>1</td>\n",
       "      <td>2</td>\n",
       "      <td>0</td>\n",
       "    </tr>\n",
       "  </tbody>\n",
       "</table>\n",
       "<p>303 rows × 14 columns</p>\n",
       "</div>"
      ],
      "text/plain": [
       "     age  sex  cp  trestbps  chol  fbs  restecg  thalach  exang  oldpeak  \\\n",
       "0     63    1   3       145   233    1        0      150      0      2.3   \n",
       "1     37    1   2       130   250    0        1      187      0      3.5   \n",
       "2     41    0   1       130   204    0        0      172      0      1.4   \n",
       "3     56    1   1       120   236    0        1      178      0      0.8   \n",
       "4     57    0   0       120   354    0        1      163      1      0.6   \n",
       "..   ...  ...  ..       ...   ...  ...      ...      ...    ...      ...   \n",
       "298   57    0   0       140   241    0        1      123      1      0.2   \n",
       "299   45    1   3       110   264    0        1      132      0      1.2   \n",
       "300   68    1   0       144   193    1        1      141      0      3.4   \n",
       "301   57    1   0       130   131    0        1      115      1      1.2   \n",
       "302   57    0   1       130   236    0        0      174      0      0.0   \n",
       "\n",
       "     slope  ca  thal  target  \n",
       "0        0   0     1       1  \n",
       "1        0   0     2       1  \n",
       "2        2   0     2       1  \n",
       "3        2   0     2       1  \n",
       "4        2   0     2       1  \n",
       "..     ...  ..   ...     ...  \n",
       "298      1   0     3       0  \n",
       "299      1   0     3       0  \n",
       "300      1   2     3       0  \n",
       "301      1   1     3       0  \n",
       "302      1   1     2       0  \n",
       "\n",
       "[303 rows x 14 columns]"
      ]
     },
     "execution_count": 3,
     "metadata": {},
     "output_type": "execute_result"
    }
   ],
   "source": [
    "data = pd.read_csv('heart.csv')\n",
    "data"
   ]
  },
  {
   "cell_type": "markdown",
   "metadata": {},
   "source": [
    "**Study Features**"
   ]
  },
  {
   "cell_type": "code",
   "execution_count": 4,
   "metadata": {},
   "outputs": [
    {
     "data": {
      "text/html": [
       "<style  type=\"text/css\" >\n",
       "    #T_7f3ff3fe_6bba_11ea_a7c8_a3f1c970fed7row0_col0 {\n",
       "            background-color:  #b40426;\n",
       "            color:  #f1f1f1;\n",
       "        }    #T_7f3ff3fe_6bba_11ea_a7c8_a3f1c970fed7row0_col1 {\n",
       "            background-color:  #6788ee;\n",
       "            color:  #000000;\n",
       "        }    #T_7f3ff3fe_6bba_11ea_a7c8_a3f1c970fed7row0_col2 {\n",
       "            background-color:  #86a9fc;\n",
       "            color:  #000000;\n",
       "        }    #T_7f3ff3fe_6bba_11ea_a7c8_a3f1c970fed7row0_col3 {\n",
       "            background-color:  #b6cefa;\n",
       "            color:  #000000;\n",
       "        }    #T_7f3ff3fe_6bba_11ea_a7c8_a3f1c970fed7row0_col4 {\n",
       "            background-color:  #adc9fd;\n",
       "            color:  #000000;\n",
       "        }    #T_7f3ff3fe_6bba_11ea_a7c8_a3f1c970fed7row0_col5 {\n",
       "            background-color:  #779af7;\n",
       "            color:  #000000;\n",
       "        }    #T_7f3ff3fe_6bba_11ea_a7c8_a3f1c970fed7row0_col6 {\n",
       "            background-color:  #4358cb;\n",
       "            color:  #f1f1f1;\n",
       "        }    #T_7f3ff3fe_6bba_11ea_a7c8_a3f1c970fed7row0_col7 {\n",
       "            background-color:  #3b4cc0;\n",
       "            color:  #f1f1f1;\n",
       "        }    #T_7f3ff3fe_6bba_11ea_a7c8_a3f1c970fed7row0_col8 {\n",
       "            background-color:  #b7cff9;\n",
       "            color:  #000000;\n",
       "        }    #T_7f3ff3fe_6bba_11ea_a7c8_a3f1c970fed7row0_col9 {\n",
       "            background-color:  #dcdddd;\n",
       "            color:  #000000;\n",
       "        }    #T_7f3ff3fe_6bba_11ea_a7c8_a3f1c970fed7row0_col10 {\n",
       "            background-color:  #90b2fe;\n",
       "            color:  #000000;\n",
       "        }    #T_7f3ff3fe_6bba_11ea_a7c8_a3f1c970fed7row0_col11 {\n",
       "            background-color:  #d7dce3;\n",
       "            color:  #000000;\n",
       "        }    #T_7f3ff3fe_6bba_11ea_a7c8_a3f1c970fed7row0_col12 {\n",
       "            background-color:  #a1c0ff;\n",
       "            color:  #000000;\n",
       "        }    #T_7f3ff3fe_6bba_11ea_a7c8_a3f1c970fed7row0_col13 {\n",
       "            background-color:  #688aef;\n",
       "            color:  #000000;\n",
       "        }    #T_7f3ff3fe_6bba_11ea_a7c8_a3f1c970fed7row1_col0 {\n",
       "            background-color:  #80a3fa;\n",
       "            color:  #000000;\n",
       "        }    #T_7f3ff3fe_6bba_11ea_a7c8_a3f1c970fed7row1_col1 {\n",
       "            background-color:  #b40426;\n",
       "            color:  #f1f1f1;\n",
       "        }    #T_7f3ff3fe_6bba_11ea_a7c8_a3f1c970fed7row1_col2 {\n",
       "            background-color:  #8caffe;\n",
       "            color:  #000000;\n",
       "        }    #T_7f3ff3fe_6bba_11ea_a7c8_a3f1c970fed7row1_col3 {\n",
       "            background-color:  #516ddb;\n",
       "            color:  #000000;\n",
       "        }    #T_7f3ff3fe_6bba_11ea_a7c8_a3f1c970fed7row1_col4 {\n",
       "            background-color:  #3b4cc0;\n",
       "            color:  #f1f1f1;\n",
       "        }    #T_7f3ff3fe_6bba_11ea_a7c8_a3f1c970fed7row1_col5 {\n",
       "            background-color:  #5f7fe8;\n",
       "            color:  #000000;\n",
       "        }    #T_7f3ff3fe_6bba_11ea_a7c8_a3f1c970fed7row1_col6 {\n",
       "            background-color:  #536edd;\n",
       "            color:  #000000;\n",
       "        }    #T_7f3ff3fe_6bba_11ea_a7c8_a3f1c970fed7row1_col7 {\n",
       "            background-color:  #8db0fe;\n",
       "            color:  #000000;\n",
       "        }    #T_7f3ff3fe_6bba_11ea_a7c8_a3f1c970fed7row1_col8 {\n",
       "            background-color:  #c1d4f4;\n",
       "            color:  #000000;\n",
       "        }    #T_7f3ff3fe_6bba_11ea_a7c8_a3f1c970fed7row1_col9 {\n",
       "            background-color:  #c9d7f0;\n",
       "            color:  #000000;\n",
       "        }    #T_7f3ff3fe_6bba_11ea_a7c8_a3f1c970fed7row1_col10 {\n",
       "            background-color:  #aec9fc;\n",
       "            color:  #000000;\n",
       "        }    #T_7f3ff3fe_6bba_11ea_a7c8_a3f1c970fed7row1_col11 {\n",
       "            background-color:  #b5cdfa;\n",
       "            color:  #000000;\n",
       "        }    #T_7f3ff3fe_6bba_11ea_a7c8_a3f1c970fed7row1_col12 {\n",
       "            background-color:  #c4d5f3;\n",
       "            color:  #000000;\n",
       "        }    #T_7f3ff3fe_6bba_11ea_a7c8_a3f1c970fed7row1_col13 {\n",
       "            background-color:  #5b7ae5;\n",
       "            color:  #000000;\n",
       "        }    #T_7f3ff3fe_6bba_11ea_a7c8_a3f1c970fed7row2_col0 {\n",
       "            background-color:  #88abfd;\n",
       "            color:  #000000;\n",
       "        }    #T_7f3ff3fe_6bba_11ea_a7c8_a3f1c970fed7row2_col1 {\n",
       "            background-color:  #7597f6;\n",
       "            color:  #000000;\n",
       "        }    #T_7f3ff3fe_6bba_11ea_a7c8_a3f1c970fed7row2_col2 {\n",
       "            background-color:  #b40426;\n",
       "            color:  #f1f1f1;\n",
       "        }    #T_7f3ff3fe_6bba_11ea_a7c8_a3f1c970fed7row2_col3 {\n",
       "            background-color:  #7093f3;\n",
       "            color:  #000000;\n",
       "        }    #T_7f3ff3fe_6bba_11ea_a7c8_a3f1c970fed7row2_col4 {\n",
       "            background-color:  #5977e3;\n",
       "            color:  #000000;\n",
       "        }    #T_7f3ff3fe_6bba_11ea_a7c8_a3f1c970fed7row2_col5 {\n",
       "            background-color:  #6f92f3;\n",
       "            color:  #000000;\n",
       "        }    #T_7f3ff3fe_6bba_11ea_a7c8_a3f1c970fed7row2_col6 {\n",
       "            background-color:  #7093f3;\n",
       "            color:  #000000;\n",
       "        }    #T_7f3ff3fe_6bba_11ea_a7c8_a3f1c970fed7row2_col7 {\n",
       "            background-color:  #dcdddd;\n",
       "            color:  #000000;\n",
       "        }    #T_7f3ff3fe_6bba_11ea_a7c8_a3f1c970fed7row2_col8 {\n",
       "            background-color:  #4358cb;\n",
       "            color:  #f1f1f1;\n",
       "        }    #T_7f3ff3fe_6bba_11ea_a7c8_a3f1c970fed7row2_col9 {\n",
       "            background-color:  #94b6ff;\n",
       "            color:  #000000;\n",
       "        }    #T_7f3ff3fe_6bba_11ea_a7c8_a3f1c970fed7row2_col10 {\n",
       "            background-color:  #cdd9ec;\n",
       "            color:  #000000;\n",
       "        }    #T_7f3ff3fe_6bba_11ea_a7c8_a3f1c970fed7row2_col11 {\n",
       "            background-color:  #6a8bef;\n",
       "            color:  #000000;\n",
       "        }    #T_7f3ff3fe_6bba_11ea_a7c8_a3f1c970fed7row2_col12 {\n",
       "            background-color:  #6485ec;\n",
       "            color:  #000000;\n",
       "        }    #T_7f3ff3fe_6bba_11ea_a7c8_a3f1c970fed7row2_col13 {\n",
       "            background-color:  #f2c9b4;\n",
       "            color:  #000000;\n",
       "        }    #T_7f3ff3fe_6bba_11ea_a7c8_a3f1c970fed7row3_col0 {\n",
       "            background-color:  #d9dce1;\n",
       "            color:  #000000;\n",
       "        }    #T_7f3ff3fe_6bba_11ea_a7c8_a3f1c970fed7row3_col1 {\n",
       "            background-color:  #7295f4;\n",
       "            color:  #000000;\n",
       "        }    #T_7f3ff3fe_6bba_11ea_a7c8_a3f1c970fed7row3_col2 {\n",
       "            background-color:  #a5c3fe;\n",
       "            color:  #000000;\n",
       "        }    #T_7f3ff3fe_6bba_11ea_a7c8_a3f1c970fed7row3_col3 {\n",
       "            background-color:  #b40426;\n",
       "            color:  #f1f1f1;\n",
       "        }    #T_7f3ff3fe_6bba_11ea_a7c8_a3f1c970fed7row3_col4 {\n",
       "            background-color:  #93b5fe;\n",
       "            color:  #000000;\n",
       "        }    #T_7f3ff3fe_6bba_11ea_a7c8_a3f1c970fed7row3_col5 {\n",
       "            background-color:  #89acfd;\n",
       "            color:  #000000;\n",
       "        }    #T_7f3ff3fe_6bba_11ea_a7c8_a3f1c970fed7row3_col6 {\n",
       "            background-color:  #445acc;\n",
       "            color:  #f1f1f1;\n",
       "        }    #T_7f3ff3fe_6bba_11ea_a7c8_a3f1c970fed7row3_col7 {\n",
       "            background-color:  #8db0fe;\n",
       "            color:  #000000;\n",
       "        }    #T_7f3ff3fe_6bba_11ea_a7c8_a3f1c970fed7row3_col8 {\n",
       "            background-color:  #afcafc;\n",
       "            color:  #000000;\n",
       "        }    #T_7f3ff3fe_6bba_11ea_a7c8_a3f1c970fed7row3_col9 {\n",
       "            background-color:  #dadce0;\n",
       "            color:  #000000;\n",
       "        }    #T_7f3ff3fe_6bba_11ea_a7c8_a3f1c970fed7row3_col10 {\n",
       "            background-color:  #9bbcff;\n",
       "            color:  #000000;\n",
       "        }    #T_7f3ff3fe_6bba_11ea_a7c8_a3f1c970fed7row3_col11 {\n",
       "            background-color:  #b1cbfc;\n",
       "            color:  #000000;\n",
       "        }    #T_7f3ff3fe_6bba_11ea_a7c8_a3f1c970fed7row3_col12 {\n",
       "            background-color:  #9fbfff;\n",
       "            color:  #000000;\n",
       "        }    #T_7f3ff3fe_6bba_11ea_a7c8_a3f1c970fed7row3_col13 {\n",
       "            background-color:  #7b9ff9;\n",
       "            color:  #000000;\n",
       "        }    #T_7f3ff3fe_6bba_11ea_a7c8_a3f1c970fed7row4_col0 {\n",
       "            background-color:  #ccd9ed;\n",
       "            color:  #000000;\n",
       "        }    #T_7f3ff3fe_6bba_11ea_a7c8_a3f1c970fed7row4_col1 {\n",
       "            background-color:  #4e68d8;\n",
       "            color:  #000000;\n",
       "        }    #T_7f3ff3fe_6bba_11ea_a7c8_a3f1c970fed7row4_col2 {\n",
       "            background-color:  #85a8fc;\n",
       "            color:  #000000;\n",
       "        }    #T_7f3ff3fe_6bba_11ea_a7c8_a3f1c970fed7row4_col3 {\n",
       "            background-color:  #86a9fc;\n",
       "            color:  #000000;\n",
       "        }    #T_7f3ff3fe_6bba_11ea_a7c8_a3f1c970fed7row4_col4 {\n",
       "            background-color:  #b40426;\n",
       "            color:  #f1f1f1;\n",
       "        }    #T_7f3ff3fe_6bba_11ea_a7c8_a3f1c970fed7row4_col5 {\n",
       "            background-color:  #5673e0;\n",
       "            color:  #000000;\n",
       "        }    #T_7f3ff3fe_6bba_11ea_a7c8_a3f1c970fed7row4_col6 {\n",
       "            background-color:  #3b4cc0;\n",
       "            color:  #f1f1f1;\n",
       "        }    #T_7f3ff3fe_6bba_11ea_a7c8_a3f1c970fed7row4_col7 {\n",
       "            background-color:  #97b8ff;\n",
       "            color:  #000000;\n",
       "        }    #T_7f3ff3fe_6bba_11ea_a7c8_a3f1c970fed7row4_col8 {\n",
       "            background-color:  #afcafc;\n",
       "            color:  #000000;\n",
       "        }    #T_7f3ff3fe_6bba_11ea_a7c8_a3f1c970fed7row4_col9 {\n",
       "            background-color:  #c0d4f5;\n",
       "            color:  #000000;\n",
       "        }    #T_7f3ff3fe_6bba_11ea_a7c8_a3f1c970fed7row4_col10 {\n",
       "            background-color:  #b5cdfa;\n",
       "            color:  #000000;\n",
       "        }    #T_7f3ff3fe_6bba_11ea_a7c8_a3f1c970fed7row4_col11 {\n",
       "            background-color:  #aac7fd;\n",
       "            color:  #000000;\n",
       "        }    #T_7f3ff3fe_6bba_11ea_a7c8_a3f1c970fed7row4_col12 {\n",
       "            background-color:  #a9c6fd;\n",
       "            color:  #000000;\n",
       "        }    #T_7f3ff3fe_6bba_11ea_a7c8_a3f1c970fed7row4_col13 {\n",
       "            background-color:  #8badfd;\n",
       "            color:  #000000;\n",
       "        }    #T_7f3ff3fe_6bba_11ea_a7c8_a3f1c970fed7row5_col0 {\n",
       "            background-color:  #b7cff9;\n",
       "            color:  #000000;\n",
       "        }    #T_7f3ff3fe_6bba_11ea_a7c8_a3f1c970fed7row5_col1 {\n",
       "            background-color:  #8fb1fe;\n",
       "            color:  #000000;\n",
       "        }    #T_7f3ff3fe_6bba_11ea_a7c8_a3f1c970fed7row5_col2 {\n",
       "            background-color:  #afcafc;\n",
       "            color:  #000000;\n",
       "        }    #T_7f3ff3fe_6bba_11ea_a7c8_a3f1c970fed7row5_col3 {\n",
       "            background-color:  #98b9ff;\n",
       "            color:  #000000;\n",
       "        }    #T_7f3ff3fe_6bba_11ea_a7c8_a3f1c970fed7row5_col4 {\n",
       "            background-color:  #7396f5;\n",
       "            color:  #000000;\n",
       "        }    #T_7f3ff3fe_6bba_11ea_a7c8_a3f1c970fed7row5_col5 {\n",
       "            background-color:  #b40426;\n",
       "            color:  #f1f1f1;\n",
       "        }    #T_7f3ff3fe_6bba_11ea_a7c8_a3f1c970fed7row5_col6 {\n",
       "            background-color:  #4b64d5;\n",
       "            color:  #f1f1f1;\n",
       "        }    #T_7f3ff3fe_6bba_11ea_a7c8_a3f1c970fed7row5_col7 {\n",
       "            background-color:  #97b8ff;\n",
       "            color:  #000000;\n",
       "        }    #T_7f3ff3fe_6bba_11ea_a7c8_a3f1c970fed7row5_col8 {\n",
       "            background-color:  #a6c4fe;\n",
       "            color:  #000000;\n",
       "        }    #T_7f3ff3fe_6bba_11ea_a7c8_a3f1c970fed7row5_col9 {\n",
       "            background-color:  #b6cefa;\n",
       "            color:  #000000;\n",
       "        }    #T_7f3ff3fe_6bba_11ea_a7c8_a3f1c970fed7row5_col10 {\n",
       "            background-color:  #a9c6fd;\n",
       "            color:  #000000;\n",
       "        }    #T_7f3ff3fe_6bba_11ea_a7c8_a3f1c970fed7row5_col11 {\n",
       "            background-color:  #bad0f8;\n",
       "            color:  #000000;\n",
       "        }    #T_7f3ff3fe_6bba_11ea_a7c8_a3f1c970fed7row5_col12 {\n",
       "            background-color:  #86a9fc;\n",
       "            color:  #000000;\n",
       "        }    #T_7f3ff3fe_6bba_11ea_a7c8_a3f1c970fed7row5_col13 {\n",
       "            background-color:  #98b9ff;\n",
       "            color:  #000000;\n",
       "        }    #T_7f3ff3fe_6bba_11ea_a7c8_a3f1c970fed7row6_col0 {\n",
       "            background-color:  #7b9ff9;\n",
       "            color:  #000000;\n",
       "        }    #T_7f3ff3fe_6bba_11ea_a7c8_a3f1c970fed7row6_col1 {\n",
       "            background-color:  #7295f4;\n",
       "            color:  #000000;\n",
       "        }    #T_7f3ff3fe_6bba_11ea_a7c8_a3f1c970fed7row6_col2 {\n",
       "            background-color:  #a3c2fe;\n",
       "            color:  #000000;\n",
       "        }    #T_7f3ff3fe_6bba_11ea_a7c8_a3f1c970fed7row6_col3 {\n",
       "            background-color:  #4257c9;\n",
       "            color:  #f1f1f1;\n",
       "        }    #T_7f3ff3fe_6bba_11ea_a7c8_a3f1c970fed7row6_col4 {\n",
       "            background-color:  #465ecf;\n",
       "            color:  #f1f1f1;\n",
       "        }    #T_7f3ff3fe_6bba_11ea_a7c8_a3f1c970fed7row6_col5 {\n",
       "            background-color:  #3b4cc0;\n",
       "            color:  #f1f1f1;\n",
       "        }    #T_7f3ff3fe_6bba_11ea_a7c8_a3f1c970fed7row6_col6 {\n",
       "            background-color:  #b40426;\n",
       "            color:  #f1f1f1;\n",
       "        }    #T_7f3ff3fe_6bba_11ea_a7c8_a3f1c970fed7row6_col7 {\n",
       "            background-color:  #a5c3fe;\n",
       "            color:  #000000;\n",
       "        }    #T_7f3ff3fe_6bba_11ea_a7c8_a3f1c970fed7row6_col8 {\n",
       "            background-color:  #8fb1fe;\n",
       "            color:  #000000;\n",
       "        }    #T_7f3ff3fe_6bba_11ea_a7c8_a3f1c970fed7row6_col9 {\n",
       "            background-color:  #a9c6fd;\n",
       "            color:  #000000;\n",
       "        }    #T_7f3ff3fe_6bba_11ea_a7c8_a3f1c970fed7row6_col10 {\n",
       "            background-color:  #c7d7f0;\n",
       "            color:  #000000;\n",
       "        }    #T_7f3ff3fe_6bba_11ea_a7c8_a3f1c970fed7row6_col11 {\n",
       "            background-color:  #85a8fc;\n",
       "            color:  #000000;\n",
       "        }    #T_7f3ff3fe_6bba_11ea_a7c8_a3f1c970fed7row6_col12 {\n",
       "            background-color:  #8caffe;\n",
       "            color:  #000000;\n",
       "        }    #T_7f3ff3fe_6bba_11ea_a7c8_a3f1c970fed7row6_col13 {\n",
       "            background-color:  #c0d4f5;\n",
       "            color:  #000000;\n",
       "        }    #T_7f3ff3fe_6bba_11ea_a7c8_a3f1c970fed7row7_col0 {\n",
       "            background-color:  #3b4cc0;\n",
       "            color:  #f1f1f1;\n",
       "        }    #T_7f3ff3fe_6bba_11ea_a7c8_a3f1c970fed7row7_col1 {\n",
       "            background-color:  #7699f6;\n",
       "            color:  #000000;\n",
       "        }    #T_7f3ff3fe_6bba_11ea_a7c8_a3f1c970fed7row7_col2 {\n",
       "            background-color:  #dbdcde;\n",
       "            color:  #000000;\n",
       "        }    #T_7f3ff3fe_6bba_11ea_a7c8_a3f1c970fed7row7_col3 {\n",
       "            background-color:  #5470de;\n",
       "            color:  #000000;\n",
       "        }    #T_7f3ff3fe_6bba_11ea_a7c8_a3f1c970fed7row7_col4 {\n",
       "            background-color:  #6c8ff1;\n",
       "            color:  #000000;\n",
       "        }    #T_7f3ff3fe_6bba_11ea_a7c8_a3f1c970fed7row7_col5 {\n",
       "            background-color:  #4f69d9;\n",
       "            color:  #000000;\n",
       "        }    #T_7f3ff3fe_6bba_11ea_a7c8_a3f1c970fed7row7_col6 {\n",
       "            background-color:  #7093f3;\n",
       "            color:  #000000;\n",
       "        }    #T_7f3ff3fe_6bba_11ea_a7c8_a3f1c970fed7row7_col7 {\n",
       "            background-color:  #b40426;\n",
       "            color:  #f1f1f1;\n",
       "        }    #T_7f3ff3fe_6bba_11ea_a7c8_a3f1c970fed7row7_col8 {\n",
       "            background-color:  #465ecf;\n",
       "            color:  #f1f1f1;\n",
       "        }    #T_7f3ff3fe_6bba_11ea_a7c8_a3f1c970fed7row7_col9 {\n",
       "            background-color:  #688aef;\n",
       "            color:  #000000;\n",
       "        }    #T_7f3ff3fe_6bba_11ea_a7c8_a3f1c970fed7row7_col10 {\n",
       "            background-color:  #f3c8b2;\n",
       "            color:  #000000;\n",
       "        }    #T_7f3ff3fe_6bba_11ea_a7c8_a3f1c970fed7row7_col11 {\n",
       "            background-color:  #6282ea;\n",
       "            color:  #000000;\n",
       "        }    #T_7f3ff3fe_6bba_11ea_a7c8_a3f1c970fed7row7_col12 {\n",
       "            background-color:  #7699f6;\n",
       "            color:  #000000;\n",
       "        }    #T_7f3ff3fe_6bba_11ea_a7c8_a3f1c970fed7row7_col13 {\n",
       "            background-color:  #f1ccb8;\n",
       "            color:  #000000;\n",
       "        }    #T_7f3ff3fe_6bba_11ea_a7c8_a3f1c970fed7row8_col0 {\n",
       "            background-color:  #b1cbfc;\n",
       "            color:  #000000;\n",
       "        }    #T_7f3ff3fe_6bba_11ea_a7c8_a3f1c970fed7row8_col1 {\n",
       "            background-color:  #a9c6fd;\n",
       "            color:  #000000;\n",
       "        }    #T_7f3ff3fe_6bba_11ea_a7c8_a3f1c970fed7row8_col2 {\n",
       "            background-color:  #3b4cc0;\n",
       "            color:  #f1f1f1;\n",
       "        }    #T_7f3ff3fe_6bba_11ea_a7c8_a3f1c970fed7row8_col3 {\n",
       "            background-color:  #7699f6;\n",
       "            color:  #000000;\n",
       "        }    #T_7f3ff3fe_6bba_11ea_a7c8_a3f1c970fed7row8_col4 {\n",
       "            background-color:  #82a6fb;\n",
       "            color:  #000000;\n",
       "        }    #T_7f3ff3fe_6bba_11ea_a7c8_a3f1c970fed7row8_col5 {\n",
       "            background-color:  #5977e3;\n",
       "            color:  #000000;\n",
       "        }    #T_7f3ff3fe_6bba_11ea_a7c8_a3f1c970fed7row8_col6 {\n",
       "            background-color:  #4f69d9;\n",
       "            color:  #000000;\n",
       "        }    #T_7f3ff3fe_6bba_11ea_a7c8_a3f1c970fed7row8_col7 {\n",
       "            background-color:  #3e51c5;\n",
       "            color:  #f1f1f1;\n",
       "        }    #T_7f3ff3fe_6bba_11ea_a7c8_a3f1c970fed7row8_col8 {\n",
       "            background-color:  #b40426;\n",
       "            color:  #f1f1f1;\n",
       "        }    #T_7f3ff3fe_6bba_11ea_a7c8_a3f1c970fed7row8_col9 {\n",
       "            background-color:  #e9d5cb;\n",
       "            color:  #000000;\n",
       "        }    #T_7f3ff3fe_6bba_11ea_a7c8_a3f1c970fed7row8_col10 {\n",
       "            background-color:  #7b9ff9;\n",
       "            color:  #000000;\n",
       "        }    #T_7f3ff3fe_6bba_11ea_a7c8_a3f1c970fed7row8_col11 {\n",
       "            background-color:  #b5cdfa;\n",
       "            color:  #000000;\n",
       "        }    #T_7f3ff3fe_6bba_11ea_a7c8_a3f1c970fed7row8_col12 {\n",
       "            background-color:  #c3d5f4;\n",
       "            color:  #000000;\n",
       "        }    #T_7f3ff3fe_6bba_11ea_a7c8_a3f1c970fed7row8_col13 {\n",
       "            background-color:  #3b4cc0;\n",
       "            color:  #f1f1f1;\n",
       "        }    #T_7f3ff3fe_6bba_11ea_a7c8_a3f1c970fed7row9_col0 {\n",
       "            background-color:  #cbd8ee;\n",
       "            color:  #000000;\n",
       "        }    #T_7f3ff3fe_6bba_11ea_a7c8_a3f1c970fed7row9_col1 {\n",
       "            background-color:  #9dbdff;\n",
       "            color:  #000000;\n",
       "        }    #T_7f3ff3fe_6bba_11ea_a7c8_a3f1c970fed7row9_col2 {\n",
       "            background-color:  #7295f4;\n",
       "            color:  #000000;\n",
       "        }    #T_7f3ff3fe_6bba_11ea_a7c8_a3f1c970fed7row9_col3 {\n",
       "            background-color:  #9dbdff;\n",
       "            color:  #000000;\n",
       "        }    #T_7f3ff3fe_6bba_11ea_a7c8_a3f1c970fed7row9_col4 {\n",
       "            background-color:  #7ea1fa;\n",
       "            color:  #000000;\n",
       "        }    #T_7f3ff3fe_6bba_11ea_a7c8_a3f1c970fed7row9_col5 {\n",
       "            background-color:  #5470de;\n",
       "            color:  #000000;\n",
       "        }    #T_7f3ff3fe_6bba_11ea_a7c8_a3f1c970fed7row9_col6 {\n",
       "            background-color:  #536edd;\n",
       "            color:  #000000;\n",
       "        }    #T_7f3ff3fe_6bba_11ea_a7c8_a3f1c970fed7row9_col7 {\n",
       "            background-color:  #455cce;\n",
       "            color:  #f1f1f1;\n",
       "        }    #T_7f3ff3fe_6bba_11ea_a7c8_a3f1c970fed7row9_col8 {\n",
       "            background-color:  #dedcdb;\n",
       "            color:  #000000;\n",
       "        }    #T_7f3ff3fe_6bba_11ea_a7c8_a3f1c970fed7row9_col9 {\n",
       "            background-color:  #b40426;\n",
       "            color:  #f1f1f1;\n",
       "        }    #T_7f3ff3fe_6bba_11ea_a7c8_a3f1c970fed7row9_col10 {\n",
       "            background-color:  #3b4cc0;\n",
       "            color:  #f1f1f1;\n",
       "        }    #T_7f3ff3fe_6bba_11ea_a7c8_a3f1c970fed7row9_col11 {\n",
       "            background-color:  #cdd9ec;\n",
       "            color:  #000000;\n",
       "        }    #T_7f3ff3fe_6bba_11ea_a7c8_a3f1c970fed7row9_col12 {\n",
       "            background-color:  #c4d5f3;\n",
       "            color:  #000000;\n",
       "        }    #T_7f3ff3fe_6bba_11ea_a7c8_a3f1c970fed7row9_col13 {\n",
       "            background-color:  #3c4ec2;\n",
       "            color:  #f1f1f1;\n",
       "        }    #T_7f3ff3fe_6bba_11ea_a7c8_a3f1c970fed7row10_col0 {\n",
       "            background-color:  #6f92f3;\n",
       "            color:  #000000;\n",
       "        }    #T_7f3ff3fe_6bba_11ea_a7c8_a3f1c970fed7row10_col1 {\n",
       "            background-color:  #7a9df8;\n",
       "            color:  #000000;\n",
       "        }    #T_7f3ff3fe_6bba_11ea_a7c8_a3f1c970fed7row10_col2 {\n",
       "            background-color:  #b6cefa;\n",
       "            color:  #000000;\n",
       "        }    #T_7f3ff3fe_6bba_11ea_a7c8_a3f1c970fed7row10_col3 {\n",
       "            background-color:  #4055c8;\n",
       "            color:  #f1f1f1;\n",
       "        }    #T_7f3ff3fe_6bba_11ea_a7c8_a3f1c970fed7row10_col4 {\n",
       "            background-color:  #6e90f2;\n",
       "            color:  #000000;\n",
       "        }    #T_7f3ff3fe_6bba_11ea_a7c8_a3f1c970fed7row10_col5 {\n",
       "            background-color:  #4055c8;\n",
       "            color:  #f1f1f1;\n",
       "        }    #T_7f3ff3fe_6bba_11ea_a7c8_a3f1c970fed7row10_col6 {\n",
       "            background-color:  #80a3fa;\n",
       "            color:  #000000;\n",
       "        }    #T_7f3ff3fe_6bba_11ea_a7c8_a3f1c970fed7row10_col7 {\n",
       "            background-color:  #ebd3c6;\n",
       "            color:  #000000;\n",
       "        }    #T_7f3ff3fe_6bba_11ea_a7c8_a3f1c970fed7row10_col8 {\n",
       "            background-color:  #6180e9;\n",
       "            color:  #000000;\n",
       "        }    #T_7f3ff3fe_6bba_11ea_a7c8_a3f1c970fed7row10_col9 {\n",
       "            background-color:  #3b4cc0;\n",
       "            color:  #f1f1f1;\n",
       "        }    #T_7f3ff3fe_6bba_11ea_a7c8_a3f1c970fed7row10_col10 {\n",
       "            background-color:  #b40426;\n",
       "            color:  #f1f1f1;\n",
       "        }    #T_7f3ff3fe_6bba_11ea_a7c8_a3f1c970fed7row10_col11 {\n",
       "            background-color:  #84a7fc;\n",
       "            color:  #000000;\n",
       "        }    #T_7f3ff3fe_6bba_11ea_a7c8_a3f1c970fed7row10_col12 {\n",
       "            background-color:  #7396f5;\n",
       "            color:  #000000;\n",
       "        }    #T_7f3ff3fe_6bba_11ea_a7c8_a3f1c970fed7row10_col13 {\n",
       "            background-color:  #e8d6cc;\n",
       "            color:  #000000;\n",
       "        }    #T_7f3ff3fe_6bba_11ea_a7c8_a3f1c970fed7row11_col0 {\n",
       "            background-color:  #d8dce2;\n",
       "            color:  #000000;\n",
       "        }    #T_7f3ff3fe_6bba_11ea_a7c8_a3f1c970fed7row11_col1 {\n",
       "            background-color:  #a2c1ff;\n",
       "            color:  #000000;\n",
       "        }    #T_7f3ff3fe_6bba_11ea_a7c8_a3f1c970fed7row11_col2 {\n",
       "            background-color:  #6b8df0;\n",
       "            color:  #000000;\n",
       "        }    #T_7f3ff3fe_6bba_11ea_a7c8_a3f1c970fed7row11_col3 {\n",
       "            background-color:  #81a4fb;\n",
       "            color:  #000000;\n",
       "        }    #T_7f3ff3fe_6bba_11ea_a7c8_a3f1c970fed7row11_col4 {\n",
       "            background-color:  #84a7fc;\n",
       "            color:  #000000;\n",
       "        }    #T_7f3ff3fe_6bba_11ea_a7c8_a3f1c970fed7row11_col5 {\n",
       "            background-color:  #7da0f9;\n",
       "            color:  #000000;\n",
       "        }    #T_7f3ff3fe_6bba_11ea_a7c8_a3f1c970fed7row11_col6 {\n",
       "            background-color:  #4f69d9;\n",
       "            color:  #000000;\n",
       "        }    #T_7f3ff3fe_6bba_11ea_a7c8_a3f1c970fed7row11_col7 {\n",
       "            background-color:  #6384eb;\n",
       "            color:  #000000;\n",
       "        }    #T_7f3ff3fe_6bba_11ea_a7c8_a3f1c970fed7row11_col8 {\n",
       "            background-color:  #bbd1f8;\n",
       "            color:  #000000;\n",
       "        }    #T_7f3ff3fe_6bba_11ea_a7c8_a3f1c970fed7row11_col9 {\n",
       "            background-color:  #dedcdb;\n",
       "            color:  #000000;\n",
       "        }    #T_7f3ff3fe_6bba_11ea_a7c8_a3f1c970fed7row11_col10 {\n",
       "            background-color:  #a3c2fe;\n",
       "            color:  #000000;\n",
       "        }    #T_7f3ff3fe_6bba_11ea_a7c8_a3f1c970fed7row11_col11 {\n",
       "            background-color:  #b40426;\n",
       "            color:  #f1f1f1;\n",
       "        }    #T_7f3ff3fe_6bba_11ea_a7c8_a3f1c970fed7row11_col12 {\n",
       "            background-color:  #b6cefa;\n",
       "            color:  #000000;\n",
       "        }    #T_7f3ff3fe_6bba_11ea_a7c8_a3f1c970fed7row11_col13 {\n",
       "            background-color:  #445acc;\n",
       "            color:  #f1f1f1;\n",
       "        }    #T_7f3ff3fe_6bba_11ea_a7c8_a3f1c970fed7row12_col0 {\n",
       "            background-color:  #aac7fd;\n",
       "            color:  #000000;\n",
       "        }    #T_7f3ff3fe_6bba_11ea_a7c8_a3f1c970fed7row12_col1 {\n",
       "            background-color:  #bbd1f8;\n",
       "            color:  #000000;\n",
       "        }    #T_7f3ff3fe_6bba_11ea_a7c8_a3f1c970fed7row12_col2 {\n",
       "            background-color:  #6f92f3;\n",
       "            color:  #000000;\n",
       "        }    #T_7f3ff3fe_6bba_11ea_a7c8_a3f1c970fed7row12_col3 {\n",
       "            background-color:  #7597f6;\n",
       "            color:  #000000;\n",
       "        }    #T_7f3ff3fe_6bba_11ea_a7c8_a3f1c970fed7row12_col4 {\n",
       "            background-color:  #8caffe;\n",
       "            color:  #000000;\n",
       "        }    #T_7f3ff3fe_6bba_11ea_a7c8_a3f1c970fed7row12_col5 {\n",
       "            background-color:  #4961d2;\n",
       "            color:  #f1f1f1;\n",
       "        }    #T_7f3ff3fe_6bba_11ea_a7c8_a3f1c970fed7row12_col6 {\n",
       "            background-color:  #5f7fe8;\n",
       "            color:  #000000;\n",
       "        }    #T_7f3ff3fe_6bba_11ea_a7c8_a3f1c970fed7row12_col7 {\n",
       "            background-color:  #81a4fb;\n",
       "            color:  #000000;\n",
       "        }    #T_7f3ff3fe_6bba_11ea_a7c8_a3f1c970fed7row12_col8 {\n",
       "            background-color:  #cedaeb;\n",
       "            color:  #000000;\n",
       "        }    #T_7f3ff3fe_6bba_11ea_a7c8_a3f1c970fed7row12_col9 {\n",
       "            background-color:  #dcdddd;\n",
       "            color:  #000000;\n",
       "        }    #T_7f3ff3fe_6bba_11ea_a7c8_a3f1c970fed7row12_col10 {\n",
       "            background-color:  #9ebeff;\n",
       "            color:  #000000;\n",
       "        }    #T_7f3ff3fe_6bba_11ea_a7c8_a3f1c970fed7row12_col11 {\n",
       "            background-color:  #bcd2f7;\n",
       "            color:  #000000;\n",
       "        }    #T_7f3ff3fe_6bba_11ea_a7c8_a3f1c970fed7row12_col12 {\n",
       "            background-color:  #b40426;\n",
       "            color:  #f1f1f1;\n",
       "        }    #T_7f3ff3fe_6bba_11ea_a7c8_a3f1c970fed7row12_col13 {\n",
       "            background-color:  #4e68d8;\n",
       "            color:  #000000;\n",
       "        }    #T_7f3ff3fe_6bba_11ea_a7c8_a3f1c970fed7row13_col0 {\n",
       "            background-color:  #6180e9;\n",
       "            color:  #000000;\n",
       "        }    #T_7f3ff3fe_6bba_11ea_a7c8_a3f1c970fed7row13_col1 {\n",
       "            background-color:  #3b4cc0;\n",
       "            color:  #f1f1f1;\n",
       "        }    #T_7f3ff3fe_6bba_11ea_a7c8_a3f1c970fed7row13_col2 {\n",
       "            background-color:  #f1ccb8;\n",
       "            color:  #000000;\n",
       "        }    #T_7f3ff3fe_6bba_11ea_a7c8_a3f1c970fed7row13_col3 {\n",
       "            background-color:  #3b4cc0;\n",
       "            color:  #f1f1f1;\n",
       "        }    #T_7f3ff3fe_6bba_11ea_a7c8_a3f1c970fed7row13_col4 {\n",
       "            background-color:  #5875e1;\n",
       "            color:  #000000;\n",
       "        }    #T_7f3ff3fe_6bba_11ea_a7c8_a3f1c970fed7row13_col5 {\n",
       "            background-color:  #4a63d3;\n",
       "            color:  #f1f1f1;\n",
       "        }    #T_7f3ff3fe_6bba_11ea_a7c8_a3f1c970fed7row13_col6 {\n",
       "            background-color:  #8db0fe;\n",
       "            color:  #000000;\n",
       "        }    #T_7f3ff3fe_6bba_11ea_a7c8_a3f1c970fed7row13_col7 {\n",
       "            background-color:  #f0cdbb;\n",
       "            color:  #000000;\n",
       "        }    #T_7f3ff3fe_6bba_11ea_a7c8_a3f1c970fed7row13_col8 {\n",
       "            background-color:  #3b4cc0;\n",
       "            color:  #f1f1f1;\n",
       "        }    #T_7f3ff3fe_6bba_11ea_a7c8_a3f1c970fed7row13_col9 {\n",
       "            background-color:  #5673e0;\n",
       "            color:  #000000;\n",
       "        }    #T_7f3ff3fe_6bba_11ea_a7c8_a3f1c970fed7row13_col10 {\n",
       "            background-color:  #efcebd;\n",
       "            color:  #000000;\n",
       "        }    #T_7f3ff3fe_6bba_11ea_a7c8_a3f1c970fed7row13_col11 {\n",
       "            background-color:  #3b4cc0;\n",
       "            color:  #f1f1f1;\n",
       "        }    #T_7f3ff3fe_6bba_11ea_a7c8_a3f1c970fed7row13_col12 {\n",
       "            background-color:  #3b4cc0;\n",
       "            color:  #f1f1f1;\n",
       "        }    #T_7f3ff3fe_6bba_11ea_a7c8_a3f1c970fed7row13_col13 {\n",
       "            background-color:  #b40426;\n",
       "            color:  #f1f1f1;\n",
       "        }</style><table id=\"T_7f3ff3fe_6bba_11ea_a7c8_a3f1c970fed7\" ><thead>    <tr>        <th class=\"blank level0\" ></th>        <th class=\"col_heading level0 col0\" >age</th>        <th class=\"col_heading level0 col1\" >sex</th>        <th class=\"col_heading level0 col2\" >cp</th>        <th class=\"col_heading level0 col3\" >trestbps</th>        <th class=\"col_heading level0 col4\" >chol</th>        <th class=\"col_heading level0 col5\" >fbs</th>        <th class=\"col_heading level0 col6\" >restecg</th>        <th class=\"col_heading level0 col7\" >thalach</th>        <th class=\"col_heading level0 col8\" >exang</th>        <th class=\"col_heading level0 col9\" >oldpeak</th>        <th class=\"col_heading level0 col10\" >slope</th>        <th class=\"col_heading level0 col11\" >ca</th>        <th class=\"col_heading level0 col12\" >thal</th>        <th class=\"col_heading level0 col13\" >target</th>    </tr></thead><tbody>\n",
       "                <tr>\n",
       "                        <th id=\"T_7f3ff3fe_6bba_11ea_a7c8_a3f1c970fed7level0_row0\" class=\"row_heading level0 row0\" >age</th>\n",
       "                        <td id=\"T_7f3ff3fe_6bba_11ea_a7c8_a3f1c970fed7row0_col0\" class=\"data row0 col0\" >1</td>\n",
       "                        <td id=\"T_7f3ff3fe_6bba_11ea_a7c8_a3f1c970fed7row0_col1\" class=\"data row0 col1\" >-0.0984466</td>\n",
       "                        <td id=\"T_7f3ff3fe_6bba_11ea_a7c8_a3f1c970fed7row0_col2\" class=\"data row0 col2\" >-0.068653</td>\n",
       "                        <td id=\"T_7f3ff3fe_6bba_11ea_a7c8_a3f1c970fed7row0_col3\" class=\"data row0 col3\" >0.279351</td>\n",
       "                        <td id=\"T_7f3ff3fe_6bba_11ea_a7c8_a3f1c970fed7row0_col4\" class=\"data row0 col4\" >0.213678</td>\n",
       "                        <td id=\"T_7f3ff3fe_6bba_11ea_a7c8_a3f1c970fed7row0_col5\" class=\"data row0 col5\" >0.121308</td>\n",
       "                        <td id=\"T_7f3ff3fe_6bba_11ea_a7c8_a3f1c970fed7row0_col6\" class=\"data row0 col6\" >-0.116211</td>\n",
       "                        <td id=\"T_7f3ff3fe_6bba_11ea_a7c8_a3f1c970fed7row0_col7\" class=\"data row0 col7\" >-0.398522</td>\n",
       "                        <td id=\"T_7f3ff3fe_6bba_11ea_a7c8_a3f1c970fed7row0_col8\" class=\"data row0 col8\" >0.0968008</td>\n",
       "                        <td id=\"T_7f3ff3fe_6bba_11ea_a7c8_a3f1c970fed7row0_col9\" class=\"data row0 col9\" >0.210013</td>\n",
       "                        <td id=\"T_7f3ff3fe_6bba_11ea_a7c8_a3f1c970fed7row0_col10\" class=\"data row0 col10\" >-0.168814</td>\n",
       "                        <td id=\"T_7f3ff3fe_6bba_11ea_a7c8_a3f1c970fed7row0_col11\" class=\"data row0 col11\" >0.276326</td>\n",
       "                        <td id=\"T_7f3ff3fe_6bba_11ea_a7c8_a3f1c970fed7row0_col12\" class=\"data row0 col12\" >0.0680014</td>\n",
       "                        <td id=\"T_7f3ff3fe_6bba_11ea_a7c8_a3f1c970fed7row0_col13\" class=\"data row0 col13\" >-0.225439</td>\n",
       "            </tr>\n",
       "            <tr>\n",
       "                        <th id=\"T_7f3ff3fe_6bba_11ea_a7c8_a3f1c970fed7level0_row1\" class=\"row_heading level0 row1\" >sex</th>\n",
       "                        <td id=\"T_7f3ff3fe_6bba_11ea_a7c8_a3f1c970fed7row1_col0\" class=\"data row1 col0\" >-0.0984466</td>\n",
       "                        <td id=\"T_7f3ff3fe_6bba_11ea_a7c8_a3f1c970fed7row1_col1\" class=\"data row1 col1\" >1</td>\n",
       "                        <td id=\"T_7f3ff3fe_6bba_11ea_a7c8_a3f1c970fed7row1_col2\" class=\"data row1 col2\" >-0.0493529</td>\n",
       "                        <td id=\"T_7f3ff3fe_6bba_11ea_a7c8_a3f1c970fed7row1_col3\" class=\"data row1 col3\" >-0.0567688</td>\n",
       "                        <td id=\"T_7f3ff3fe_6bba_11ea_a7c8_a3f1c970fed7row1_col4\" class=\"data row1 col4\" >-0.197912</td>\n",
       "                        <td id=\"T_7f3ff3fe_6bba_11ea_a7c8_a3f1c970fed7row1_col5\" class=\"data row1 col5\" >0.0450318</td>\n",
       "                        <td id=\"T_7f3ff3fe_6bba_11ea_a7c8_a3f1c970fed7row1_col6\" class=\"data row1 col6\" >-0.0581963</td>\n",
       "                        <td id=\"T_7f3ff3fe_6bba_11ea_a7c8_a3f1c970fed7row1_col7\" class=\"data row1 col7\" >-0.0440199</td>\n",
       "                        <td id=\"T_7f3ff3fe_6bba_11ea_a7c8_a3f1c970fed7row1_col8\" class=\"data row1 col8\" >0.141664</td>\n",
       "                        <td id=\"T_7f3ff3fe_6bba_11ea_a7c8_a3f1c970fed7row1_col9\" class=\"data row1 col9\" >0.0960929</td>\n",
       "                        <td id=\"T_7f3ff3fe_6bba_11ea_a7c8_a3f1c970fed7row1_col10\" class=\"data row1 col10\" >-0.0307106</td>\n",
       "                        <td id=\"T_7f3ff3fe_6bba_11ea_a7c8_a3f1c970fed7row1_col11\" class=\"data row1 col11\" >0.118261</td>\n",
       "                        <td id=\"T_7f3ff3fe_6bba_11ea_a7c8_a3f1c970fed7row1_col12\" class=\"data row1 col12\" >0.210041</td>\n",
       "                        <td id=\"T_7f3ff3fe_6bba_11ea_a7c8_a3f1c970fed7row1_col13\" class=\"data row1 col13\" >-0.280937</td>\n",
       "            </tr>\n",
       "            <tr>\n",
       "                        <th id=\"T_7f3ff3fe_6bba_11ea_a7c8_a3f1c970fed7level0_row2\" class=\"row_heading level0 row2\" >cp</th>\n",
       "                        <td id=\"T_7f3ff3fe_6bba_11ea_a7c8_a3f1c970fed7row2_col0\" class=\"data row2 col0\" >-0.068653</td>\n",
       "                        <td id=\"T_7f3ff3fe_6bba_11ea_a7c8_a3f1c970fed7row2_col1\" class=\"data row2 col1\" >-0.0493529</td>\n",
       "                        <td id=\"T_7f3ff3fe_6bba_11ea_a7c8_a3f1c970fed7row2_col2\" class=\"data row2 col2\" >1</td>\n",
       "                        <td id=\"T_7f3ff3fe_6bba_11ea_a7c8_a3f1c970fed7row2_col3\" class=\"data row2 col3\" >0.0476078</td>\n",
       "                        <td id=\"T_7f3ff3fe_6bba_11ea_a7c8_a3f1c970fed7row2_col4\" class=\"data row2 col4\" >-0.0769044</td>\n",
       "                        <td id=\"T_7f3ff3fe_6bba_11ea_a7c8_a3f1c970fed7row2_col5\" class=\"data row2 col5\" >0.094444</td>\n",
       "                        <td id=\"T_7f3ff3fe_6bba_11ea_a7c8_a3f1c970fed7row2_col6\" class=\"data row2 col6\" >0.0444206</td>\n",
       "                        <td id=\"T_7f3ff3fe_6bba_11ea_a7c8_a3f1c970fed7row2_col7\" class=\"data row2 col7\" >0.295762</td>\n",
       "                        <td id=\"T_7f3ff3fe_6bba_11ea_a7c8_a3f1c970fed7row2_col8\" class=\"data row2 col8\" >-0.39428</td>\n",
       "                        <td id=\"T_7f3ff3fe_6bba_11ea_a7c8_a3f1c970fed7row2_col9\" class=\"data row2 col9\" >-0.14923</td>\n",
       "                        <td id=\"T_7f3ff3fe_6bba_11ea_a7c8_a3f1c970fed7row2_col10\" class=\"data row2 col10\" >0.119717</td>\n",
       "                        <td id=\"T_7f3ff3fe_6bba_11ea_a7c8_a3f1c970fed7row2_col11\" class=\"data row2 col11\" >-0.181053</td>\n",
       "                        <td id=\"T_7f3ff3fe_6bba_11ea_a7c8_a3f1c970fed7row2_col12\" class=\"data row2 col12\" >-0.161736</td>\n",
       "                        <td id=\"T_7f3ff3fe_6bba_11ea_a7c8_a3f1c970fed7row2_col13\" class=\"data row2 col13\" >0.433798</td>\n",
       "            </tr>\n",
       "            <tr>\n",
       "                        <th id=\"T_7f3ff3fe_6bba_11ea_a7c8_a3f1c970fed7level0_row3\" class=\"row_heading level0 row3\" >trestbps</th>\n",
       "                        <td id=\"T_7f3ff3fe_6bba_11ea_a7c8_a3f1c970fed7row3_col0\" class=\"data row3 col0\" >0.279351</td>\n",
       "                        <td id=\"T_7f3ff3fe_6bba_11ea_a7c8_a3f1c970fed7row3_col1\" class=\"data row3 col1\" >-0.0567688</td>\n",
       "                        <td id=\"T_7f3ff3fe_6bba_11ea_a7c8_a3f1c970fed7row3_col2\" class=\"data row3 col2\" >0.0476078</td>\n",
       "                        <td id=\"T_7f3ff3fe_6bba_11ea_a7c8_a3f1c970fed7row3_col3\" class=\"data row3 col3\" >1</td>\n",
       "                        <td id=\"T_7f3ff3fe_6bba_11ea_a7c8_a3f1c970fed7row3_col4\" class=\"data row3 col4\" >0.123174</td>\n",
       "                        <td id=\"T_7f3ff3fe_6bba_11ea_a7c8_a3f1c970fed7row3_col5\" class=\"data row3 col5\" >0.177531</td>\n",
       "                        <td id=\"T_7f3ff3fe_6bba_11ea_a7c8_a3f1c970fed7row3_col6\" class=\"data row3 col6\" >-0.114103</td>\n",
       "                        <td id=\"T_7f3ff3fe_6bba_11ea_a7c8_a3f1c970fed7row3_col7\" class=\"data row3 col7\" >-0.0466977</td>\n",
       "                        <td id=\"T_7f3ff3fe_6bba_11ea_a7c8_a3f1c970fed7row3_col8\" class=\"data row3 col8\" >0.0676161</td>\n",
       "                        <td id=\"T_7f3ff3fe_6bba_11ea_a7c8_a3f1c970fed7row3_col9\" class=\"data row3 col9\" >0.193216</td>\n",
       "                        <td id=\"T_7f3ff3fe_6bba_11ea_a7c8_a3f1c970fed7row3_col10\" class=\"data row3 col10\" >-0.121475</td>\n",
       "                        <td id=\"T_7f3ff3fe_6bba_11ea_a7c8_a3f1c970fed7row3_col11\" class=\"data row3 col11\" >0.101389</td>\n",
       "                        <td id=\"T_7f3ff3fe_6bba_11ea_a7c8_a3f1c970fed7row3_col12\" class=\"data row3 col12\" >0.0622099</td>\n",
       "                        <td id=\"T_7f3ff3fe_6bba_11ea_a7c8_a3f1c970fed7row3_col13\" class=\"data row3 col13\" >-0.144931</td>\n",
       "            </tr>\n",
       "            <tr>\n",
       "                        <th id=\"T_7f3ff3fe_6bba_11ea_a7c8_a3f1c970fed7level0_row4\" class=\"row_heading level0 row4\" >chol</th>\n",
       "                        <td id=\"T_7f3ff3fe_6bba_11ea_a7c8_a3f1c970fed7row4_col0\" class=\"data row4 col0\" >0.213678</td>\n",
       "                        <td id=\"T_7f3ff3fe_6bba_11ea_a7c8_a3f1c970fed7row4_col1\" class=\"data row4 col1\" >-0.197912</td>\n",
       "                        <td id=\"T_7f3ff3fe_6bba_11ea_a7c8_a3f1c970fed7row4_col2\" class=\"data row4 col2\" >-0.0769044</td>\n",
       "                        <td id=\"T_7f3ff3fe_6bba_11ea_a7c8_a3f1c970fed7row4_col3\" class=\"data row4 col3\" >0.123174</td>\n",
       "                        <td id=\"T_7f3ff3fe_6bba_11ea_a7c8_a3f1c970fed7row4_col4\" class=\"data row4 col4\" >1</td>\n",
       "                        <td id=\"T_7f3ff3fe_6bba_11ea_a7c8_a3f1c970fed7row4_col5\" class=\"data row4 col5\" >0.0132936</td>\n",
       "                        <td id=\"T_7f3ff3fe_6bba_11ea_a7c8_a3f1c970fed7row4_col6\" class=\"data row4 col6\" >-0.15104</td>\n",
       "                        <td id=\"T_7f3ff3fe_6bba_11ea_a7c8_a3f1c970fed7row4_col7\" class=\"data row4 col7\" >-0.00993984</td>\n",
       "                        <td id=\"T_7f3ff3fe_6bba_11ea_a7c8_a3f1c970fed7row4_col8\" class=\"data row4 col8\" >0.0670228</td>\n",
       "                        <td id=\"T_7f3ff3fe_6bba_11ea_a7c8_a3f1c970fed7row4_col9\" class=\"data row4 col9\" >0.0539519</td>\n",
       "                        <td id=\"T_7f3ff3fe_6bba_11ea_a7c8_a3f1c970fed7row4_col10\" class=\"data row4 col10\" >-0.00403777</td>\n",
       "                        <td id=\"T_7f3ff3fe_6bba_11ea_a7c8_a3f1c970fed7row4_col11\" class=\"data row4 col11\" >0.0705109</td>\n",
       "                        <td id=\"T_7f3ff3fe_6bba_11ea_a7c8_a3f1c970fed7row4_col12\" class=\"data row4 col12\" >0.098803</td>\n",
       "                        <td id=\"T_7f3ff3fe_6bba_11ea_a7c8_a3f1c970fed7row4_col13\" class=\"data row4 col13\" >-0.0852391</td>\n",
       "            </tr>\n",
       "            <tr>\n",
       "                        <th id=\"T_7f3ff3fe_6bba_11ea_a7c8_a3f1c970fed7level0_row5\" class=\"row_heading level0 row5\" >fbs</th>\n",
       "                        <td id=\"T_7f3ff3fe_6bba_11ea_a7c8_a3f1c970fed7row5_col0\" class=\"data row5 col0\" >0.121308</td>\n",
       "                        <td id=\"T_7f3ff3fe_6bba_11ea_a7c8_a3f1c970fed7row5_col1\" class=\"data row5 col1\" >0.0450318</td>\n",
       "                        <td id=\"T_7f3ff3fe_6bba_11ea_a7c8_a3f1c970fed7row5_col2\" class=\"data row5 col2\" >0.094444</td>\n",
       "                        <td id=\"T_7f3ff3fe_6bba_11ea_a7c8_a3f1c970fed7row5_col3\" class=\"data row5 col3\" >0.177531</td>\n",
       "                        <td id=\"T_7f3ff3fe_6bba_11ea_a7c8_a3f1c970fed7row5_col4\" class=\"data row5 col4\" >0.0132936</td>\n",
       "                        <td id=\"T_7f3ff3fe_6bba_11ea_a7c8_a3f1c970fed7row5_col5\" class=\"data row5 col5\" >1</td>\n",
       "                        <td id=\"T_7f3ff3fe_6bba_11ea_a7c8_a3f1c970fed7row5_col6\" class=\"data row5 col6\" >-0.0841891</td>\n",
       "                        <td id=\"T_7f3ff3fe_6bba_11ea_a7c8_a3f1c970fed7row5_col7\" class=\"data row5 col7\" >-0.00856711</td>\n",
       "                        <td id=\"T_7f3ff3fe_6bba_11ea_a7c8_a3f1c970fed7row5_col8\" class=\"data row5 col8\" >0.0256651</td>\n",
       "                        <td id=\"T_7f3ff3fe_6bba_11ea_a7c8_a3f1c970fed7row5_col9\" class=\"data row5 col9\" >0.00574722</td>\n",
       "                        <td id=\"T_7f3ff3fe_6bba_11ea_a7c8_a3f1c970fed7row5_col10\" class=\"data row5 col10\" >-0.0598942</td>\n",
       "                        <td id=\"T_7f3ff3fe_6bba_11ea_a7c8_a3f1c970fed7row5_col11\" class=\"data row5 col11\" >0.137979</td>\n",
       "                        <td id=\"T_7f3ff3fe_6bba_11ea_a7c8_a3f1c970fed7row5_col12\" class=\"data row5 col12\" >-0.0320193</td>\n",
       "                        <td id=\"T_7f3ff3fe_6bba_11ea_a7c8_a3f1c970fed7row5_col13\" class=\"data row5 col13\" >-0.0280458</td>\n",
       "            </tr>\n",
       "            <tr>\n",
       "                        <th id=\"T_7f3ff3fe_6bba_11ea_a7c8_a3f1c970fed7level0_row6\" class=\"row_heading level0 row6\" >restecg</th>\n",
       "                        <td id=\"T_7f3ff3fe_6bba_11ea_a7c8_a3f1c970fed7row6_col0\" class=\"data row6 col0\" >-0.116211</td>\n",
       "                        <td id=\"T_7f3ff3fe_6bba_11ea_a7c8_a3f1c970fed7row6_col1\" class=\"data row6 col1\" >-0.0581963</td>\n",
       "                        <td id=\"T_7f3ff3fe_6bba_11ea_a7c8_a3f1c970fed7row6_col2\" class=\"data row6 col2\" >0.0444206</td>\n",
       "                        <td id=\"T_7f3ff3fe_6bba_11ea_a7c8_a3f1c970fed7row6_col3\" class=\"data row6 col3\" >-0.114103</td>\n",
       "                        <td id=\"T_7f3ff3fe_6bba_11ea_a7c8_a3f1c970fed7row6_col4\" class=\"data row6 col4\" >-0.15104</td>\n",
       "                        <td id=\"T_7f3ff3fe_6bba_11ea_a7c8_a3f1c970fed7row6_col5\" class=\"data row6 col5\" >-0.0841891</td>\n",
       "                        <td id=\"T_7f3ff3fe_6bba_11ea_a7c8_a3f1c970fed7row6_col6\" class=\"data row6 col6\" >1</td>\n",
       "                        <td id=\"T_7f3ff3fe_6bba_11ea_a7c8_a3f1c970fed7row6_col7\" class=\"data row6 col7\" >0.0441234</td>\n",
       "                        <td id=\"T_7f3ff3fe_6bba_11ea_a7c8_a3f1c970fed7row6_col8\" class=\"data row6 col8\" >-0.0707329</td>\n",
       "                        <td id=\"T_7f3ff3fe_6bba_11ea_a7c8_a3f1c970fed7row6_col9\" class=\"data row6 col9\" >-0.0587702</td>\n",
       "                        <td id=\"T_7f3ff3fe_6bba_11ea_a7c8_a3f1c970fed7row6_col10\" class=\"data row6 col10\" >0.0930448</td>\n",
       "                        <td id=\"T_7f3ff3fe_6bba_11ea_a7c8_a3f1c970fed7row6_col11\" class=\"data row6 col11\" >-0.0720424</td>\n",
       "                        <td id=\"T_7f3ff3fe_6bba_11ea_a7c8_a3f1c970fed7row6_col12\" class=\"data row6 col12\" >-0.0119814</td>\n",
       "                        <td id=\"T_7f3ff3fe_6bba_11ea_a7c8_a3f1c970fed7row6_col13\" class=\"data row6 col13\" >0.13723</td>\n",
       "            </tr>\n",
       "            <tr>\n",
       "                        <th id=\"T_7f3ff3fe_6bba_11ea_a7c8_a3f1c970fed7level0_row7\" class=\"row_heading level0 row7\" >thalach</th>\n",
       "                        <td id=\"T_7f3ff3fe_6bba_11ea_a7c8_a3f1c970fed7row7_col0\" class=\"data row7 col0\" >-0.398522</td>\n",
       "                        <td id=\"T_7f3ff3fe_6bba_11ea_a7c8_a3f1c970fed7row7_col1\" class=\"data row7 col1\" >-0.0440199</td>\n",
       "                        <td id=\"T_7f3ff3fe_6bba_11ea_a7c8_a3f1c970fed7row7_col2\" class=\"data row7 col2\" >0.295762</td>\n",
       "                        <td id=\"T_7f3ff3fe_6bba_11ea_a7c8_a3f1c970fed7row7_col3\" class=\"data row7 col3\" >-0.0466977</td>\n",
       "                        <td id=\"T_7f3ff3fe_6bba_11ea_a7c8_a3f1c970fed7row7_col4\" class=\"data row7 col4\" >-0.00993984</td>\n",
       "                        <td id=\"T_7f3ff3fe_6bba_11ea_a7c8_a3f1c970fed7row7_col5\" class=\"data row7 col5\" >-0.00856711</td>\n",
       "                        <td id=\"T_7f3ff3fe_6bba_11ea_a7c8_a3f1c970fed7row7_col6\" class=\"data row7 col6\" >0.0441234</td>\n",
       "                        <td id=\"T_7f3ff3fe_6bba_11ea_a7c8_a3f1c970fed7row7_col7\" class=\"data row7 col7\" >1</td>\n",
       "                        <td id=\"T_7f3ff3fe_6bba_11ea_a7c8_a3f1c970fed7row7_col8\" class=\"data row7 col8\" >-0.378812</td>\n",
       "                        <td id=\"T_7f3ff3fe_6bba_11ea_a7c8_a3f1c970fed7row7_col9\" class=\"data row7 col9\" >-0.344187</td>\n",
       "                        <td id=\"T_7f3ff3fe_6bba_11ea_a7c8_a3f1c970fed7row7_col10\" class=\"data row7 col10\" >0.386784</td>\n",
       "                        <td id=\"T_7f3ff3fe_6bba_11ea_a7c8_a3f1c970fed7row7_col11\" class=\"data row7 col11\" >-0.213177</td>\n",
       "                        <td id=\"T_7f3ff3fe_6bba_11ea_a7c8_a3f1c970fed7row7_col12\" class=\"data row7 col12\" >-0.0964391</td>\n",
       "                        <td id=\"T_7f3ff3fe_6bba_11ea_a7c8_a3f1c970fed7row7_col13\" class=\"data row7 col13\" >0.421741</td>\n",
       "            </tr>\n",
       "            <tr>\n",
       "                        <th id=\"T_7f3ff3fe_6bba_11ea_a7c8_a3f1c970fed7level0_row8\" class=\"row_heading level0 row8\" >exang</th>\n",
       "                        <td id=\"T_7f3ff3fe_6bba_11ea_a7c8_a3f1c970fed7row8_col0\" class=\"data row8 col0\" >0.0968008</td>\n",
       "                        <td id=\"T_7f3ff3fe_6bba_11ea_a7c8_a3f1c970fed7row8_col1\" class=\"data row8 col1\" >0.141664</td>\n",
       "                        <td id=\"T_7f3ff3fe_6bba_11ea_a7c8_a3f1c970fed7row8_col2\" class=\"data row8 col2\" >-0.39428</td>\n",
       "                        <td id=\"T_7f3ff3fe_6bba_11ea_a7c8_a3f1c970fed7row8_col3\" class=\"data row8 col3\" >0.0676161</td>\n",
       "                        <td id=\"T_7f3ff3fe_6bba_11ea_a7c8_a3f1c970fed7row8_col4\" class=\"data row8 col4\" >0.0670228</td>\n",
       "                        <td id=\"T_7f3ff3fe_6bba_11ea_a7c8_a3f1c970fed7row8_col5\" class=\"data row8 col5\" >0.0256651</td>\n",
       "                        <td id=\"T_7f3ff3fe_6bba_11ea_a7c8_a3f1c970fed7row8_col6\" class=\"data row8 col6\" >-0.0707329</td>\n",
       "                        <td id=\"T_7f3ff3fe_6bba_11ea_a7c8_a3f1c970fed7row8_col7\" class=\"data row8 col7\" >-0.378812</td>\n",
       "                        <td id=\"T_7f3ff3fe_6bba_11ea_a7c8_a3f1c970fed7row8_col8\" class=\"data row8 col8\" >1</td>\n",
       "                        <td id=\"T_7f3ff3fe_6bba_11ea_a7c8_a3f1c970fed7row8_col9\" class=\"data row8 col9\" >0.288223</td>\n",
       "                        <td id=\"T_7f3ff3fe_6bba_11ea_a7c8_a3f1c970fed7row8_col10\" class=\"data row8 col10\" >-0.257748</td>\n",
       "                        <td id=\"T_7f3ff3fe_6bba_11ea_a7c8_a3f1c970fed7row8_col11\" class=\"data row8 col11\" >0.115739</td>\n",
       "                        <td id=\"T_7f3ff3fe_6bba_11ea_a7c8_a3f1c970fed7row8_col12\" class=\"data row8 col12\" >0.206754</td>\n",
       "                        <td id=\"T_7f3ff3fe_6bba_11ea_a7c8_a3f1c970fed7row8_col13\" class=\"data row8 col13\" >-0.436757</td>\n",
       "            </tr>\n",
       "            <tr>\n",
       "                        <th id=\"T_7f3ff3fe_6bba_11ea_a7c8_a3f1c970fed7level0_row9\" class=\"row_heading level0 row9\" >oldpeak</th>\n",
       "                        <td id=\"T_7f3ff3fe_6bba_11ea_a7c8_a3f1c970fed7row9_col0\" class=\"data row9 col0\" >0.210013</td>\n",
       "                        <td id=\"T_7f3ff3fe_6bba_11ea_a7c8_a3f1c970fed7row9_col1\" class=\"data row9 col1\" >0.0960929</td>\n",
       "                        <td id=\"T_7f3ff3fe_6bba_11ea_a7c8_a3f1c970fed7row9_col2\" class=\"data row9 col2\" >-0.14923</td>\n",
       "                        <td id=\"T_7f3ff3fe_6bba_11ea_a7c8_a3f1c970fed7row9_col3\" class=\"data row9 col3\" >0.193216</td>\n",
       "                        <td id=\"T_7f3ff3fe_6bba_11ea_a7c8_a3f1c970fed7row9_col4\" class=\"data row9 col4\" >0.0539519</td>\n",
       "                        <td id=\"T_7f3ff3fe_6bba_11ea_a7c8_a3f1c970fed7row9_col5\" class=\"data row9 col5\" >0.00574722</td>\n",
       "                        <td id=\"T_7f3ff3fe_6bba_11ea_a7c8_a3f1c970fed7row9_col6\" class=\"data row9 col6\" >-0.0587702</td>\n",
       "                        <td id=\"T_7f3ff3fe_6bba_11ea_a7c8_a3f1c970fed7row9_col7\" class=\"data row9 col7\" >-0.344187</td>\n",
       "                        <td id=\"T_7f3ff3fe_6bba_11ea_a7c8_a3f1c970fed7row9_col8\" class=\"data row9 col8\" >0.288223</td>\n",
       "                        <td id=\"T_7f3ff3fe_6bba_11ea_a7c8_a3f1c970fed7row9_col9\" class=\"data row9 col9\" >1</td>\n",
       "                        <td id=\"T_7f3ff3fe_6bba_11ea_a7c8_a3f1c970fed7row9_col10\" class=\"data row9 col10\" >-0.577537</td>\n",
       "                        <td id=\"T_7f3ff3fe_6bba_11ea_a7c8_a3f1c970fed7row9_col11\" class=\"data row9 col11\" >0.222682</td>\n",
       "                        <td id=\"T_7f3ff3fe_6bba_11ea_a7c8_a3f1c970fed7row9_col12\" class=\"data row9 col12\" >0.210244</td>\n",
       "                        <td id=\"T_7f3ff3fe_6bba_11ea_a7c8_a3f1c970fed7row9_col13\" class=\"data row9 col13\" >-0.430696</td>\n",
       "            </tr>\n",
       "            <tr>\n",
       "                        <th id=\"T_7f3ff3fe_6bba_11ea_a7c8_a3f1c970fed7level0_row10\" class=\"row_heading level0 row10\" >slope</th>\n",
       "                        <td id=\"T_7f3ff3fe_6bba_11ea_a7c8_a3f1c970fed7row10_col0\" class=\"data row10 col0\" >-0.168814</td>\n",
       "                        <td id=\"T_7f3ff3fe_6bba_11ea_a7c8_a3f1c970fed7row10_col1\" class=\"data row10 col1\" >-0.0307106</td>\n",
       "                        <td id=\"T_7f3ff3fe_6bba_11ea_a7c8_a3f1c970fed7row10_col2\" class=\"data row10 col2\" >0.119717</td>\n",
       "                        <td id=\"T_7f3ff3fe_6bba_11ea_a7c8_a3f1c970fed7row10_col3\" class=\"data row10 col3\" >-0.121475</td>\n",
       "                        <td id=\"T_7f3ff3fe_6bba_11ea_a7c8_a3f1c970fed7row10_col4\" class=\"data row10 col4\" >-0.00403777</td>\n",
       "                        <td id=\"T_7f3ff3fe_6bba_11ea_a7c8_a3f1c970fed7row10_col5\" class=\"data row10 col5\" >-0.0598942</td>\n",
       "                        <td id=\"T_7f3ff3fe_6bba_11ea_a7c8_a3f1c970fed7row10_col6\" class=\"data row10 col6\" >0.0930448</td>\n",
       "                        <td id=\"T_7f3ff3fe_6bba_11ea_a7c8_a3f1c970fed7row10_col7\" class=\"data row10 col7\" >0.386784</td>\n",
       "                        <td id=\"T_7f3ff3fe_6bba_11ea_a7c8_a3f1c970fed7row10_col8\" class=\"data row10 col8\" >-0.257748</td>\n",
       "                        <td id=\"T_7f3ff3fe_6bba_11ea_a7c8_a3f1c970fed7row10_col9\" class=\"data row10 col9\" >-0.577537</td>\n",
       "                        <td id=\"T_7f3ff3fe_6bba_11ea_a7c8_a3f1c970fed7row10_col10\" class=\"data row10 col10\" >1</td>\n",
       "                        <td id=\"T_7f3ff3fe_6bba_11ea_a7c8_a3f1c970fed7row10_col11\" class=\"data row10 col11\" >-0.0801552</td>\n",
       "                        <td id=\"T_7f3ff3fe_6bba_11ea_a7c8_a3f1c970fed7row10_col12\" class=\"data row10 col12\" >-0.104764</td>\n",
       "                        <td id=\"T_7f3ff3fe_6bba_11ea_a7c8_a3f1c970fed7row10_col13\" class=\"data row10 col13\" >0.345877</td>\n",
       "            </tr>\n",
       "            <tr>\n",
       "                        <th id=\"T_7f3ff3fe_6bba_11ea_a7c8_a3f1c970fed7level0_row11\" class=\"row_heading level0 row11\" >ca</th>\n",
       "                        <td id=\"T_7f3ff3fe_6bba_11ea_a7c8_a3f1c970fed7row11_col0\" class=\"data row11 col0\" >0.276326</td>\n",
       "                        <td id=\"T_7f3ff3fe_6bba_11ea_a7c8_a3f1c970fed7row11_col1\" class=\"data row11 col1\" >0.118261</td>\n",
       "                        <td id=\"T_7f3ff3fe_6bba_11ea_a7c8_a3f1c970fed7row11_col2\" class=\"data row11 col2\" >-0.181053</td>\n",
       "                        <td id=\"T_7f3ff3fe_6bba_11ea_a7c8_a3f1c970fed7row11_col3\" class=\"data row11 col3\" >0.101389</td>\n",
       "                        <td id=\"T_7f3ff3fe_6bba_11ea_a7c8_a3f1c970fed7row11_col4\" class=\"data row11 col4\" >0.0705109</td>\n",
       "                        <td id=\"T_7f3ff3fe_6bba_11ea_a7c8_a3f1c970fed7row11_col5\" class=\"data row11 col5\" >0.137979</td>\n",
       "                        <td id=\"T_7f3ff3fe_6bba_11ea_a7c8_a3f1c970fed7row11_col6\" class=\"data row11 col6\" >-0.0720424</td>\n",
       "                        <td id=\"T_7f3ff3fe_6bba_11ea_a7c8_a3f1c970fed7row11_col7\" class=\"data row11 col7\" >-0.213177</td>\n",
       "                        <td id=\"T_7f3ff3fe_6bba_11ea_a7c8_a3f1c970fed7row11_col8\" class=\"data row11 col8\" >0.115739</td>\n",
       "                        <td id=\"T_7f3ff3fe_6bba_11ea_a7c8_a3f1c970fed7row11_col9\" class=\"data row11 col9\" >0.222682</td>\n",
       "                        <td id=\"T_7f3ff3fe_6bba_11ea_a7c8_a3f1c970fed7row11_col10\" class=\"data row11 col10\" >-0.0801552</td>\n",
       "                        <td id=\"T_7f3ff3fe_6bba_11ea_a7c8_a3f1c970fed7row11_col11\" class=\"data row11 col11\" >1</td>\n",
       "                        <td id=\"T_7f3ff3fe_6bba_11ea_a7c8_a3f1c970fed7row11_col12\" class=\"data row11 col12\" >0.151832</td>\n",
       "                        <td id=\"T_7f3ff3fe_6bba_11ea_a7c8_a3f1c970fed7row11_col13\" class=\"data row11 col13\" >-0.391724</td>\n",
       "            </tr>\n",
       "            <tr>\n",
       "                        <th id=\"T_7f3ff3fe_6bba_11ea_a7c8_a3f1c970fed7level0_row12\" class=\"row_heading level0 row12\" >thal</th>\n",
       "                        <td id=\"T_7f3ff3fe_6bba_11ea_a7c8_a3f1c970fed7row12_col0\" class=\"data row12 col0\" >0.0680014</td>\n",
       "                        <td id=\"T_7f3ff3fe_6bba_11ea_a7c8_a3f1c970fed7row12_col1\" class=\"data row12 col1\" >0.210041</td>\n",
       "                        <td id=\"T_7f3ff3fe_6bba_11ea_a7c8_a3f1c970fed7row12_col2\" class=\"data row12 col2\" >-0.161736</td>\n",
       "                        <td id=\"T_7f3ff3fe_6bba_11ea_a7c8_a3f1c970fed7row12_col3\" class=\"data row12 col3\" >0.0622099</td>\n",
       "                        <td id=\"T_7f3ff3fe_6bba_11ea_a7c8_a3f1c970fed7row12_col4\" class=\"data row12 col4\" >0.098803</td>\n",
       "                        <td id=\"T_7f3ff3fe_6bba_11ea_a7c8_a3f1c970fed7row12_col5\" class=\"data row12 col5\" >-0.0320193</td>\n",
       "                        <td id=\"T_7f3ff3fe_6bba_11ea_a7c8_a3f1c970fed7row12_col6\" class=\"data row12 col6\" >-0.0119814</td>\n",
       "                        <td id=\"T_7f3ff3fe_6bba_11ea_a7c8_a3f1c970fed7row12_col7\" class=\"data row12 col7\" >-0.0964391</td>\n",
       "                        <td id=\"T_7f3ff3fe_6bba_11ea_a7c8_a3f1c970fed7row12_col8\" class=\"data row12 col8\" >0.206754</td>\n",
       "                        <td id=\"T_7f3ff3fe_6bba_11ea_a7c8_a3f1c970fed7row12_col9\" class=\"data row12 col9\" >0.210244</td>\n",
       "                        <td id=\"T_7f3ff3fe_6bba_11ea_a7c8_a3f1c970fed7row12_col10\" class=\"data row12 col10\" >-0.104764</td>\n",
       "                        <td id=\"T_7f3ff3fe_6bba_11ea_a7c8_a3f1c970fed7row12_col11\" class=\"data row12 col11\" >0.151832</td>\n",
       "                        <td id=\"T_7f3ff3fe_6bba_11ea_a7c8_a3f1c970fed7row12_col12\" class=\"data row12 col12\" >1</td>\n",
       "                        <td id=\"T_7f3ff3fe_6bba_11ea_a7c8_a3f1c970fed7row12_col13\" class=\"data row12 col13\" >-0.344029</td>\n",
       "            </tr>\n",
       "            <tr>\n",
       "                        <th id=\"T_7f3ff3fe_6bba_11ea_a7c8_a3f1c970fed7level0_row13\" class=\"row_heading level0 row13\" >target</th>\n",
       "                        <td id=\"T_7f3ff3fe_6bba_11ea_a7c8_a3f1c970fed7row13_col0\" class=\"data row13 col0\" >-0.225439</td>\n",
       "                        <td id=\"T_7f3ff3fe_6bba_11ea_a7c8_a3f1c970fed7row13_col1\" class=\"data row13 col1\" >-0.280937</td>\n",
       "                        <td id=\"T_7f3ff3fe_6bba_11ea_a7c8_a3f1c970fed7row13_col2\" class=\"data row13 col2\" >0.433798</td>\n",
       "                        <td id=\"T_7f3ff3fe_6bba_11ea_a7c8_a3f1c970fed7row13_col3\" class=\"data row13 col3\" >-0.144931</td>\n",
       "                        <td id=\"T_7f3ff3fe_6bba_11ea_a7c8_a3f1c970fed7row13_col4\" class=\"data row13 col4\" >-0.0852391</td>\n",
       "                        <td id=\"T_7f3ff3fe_6bba_11ea_a7c8_a3f1c970fed7row13_col5\" class=\"data row13 col5\" >-0.0280458</td>\n",
       "                        <td id=\"T_7f3ff3fe_6bba_11ea_a7c8_a3f1c970fed7row13_col6\" class=\"data row13 col6\" >0.13723</td>\n",
       "                        <td id=\"T_7f3ff3fe_6bba_11ea_a7c8_a3f1c970fed7row13_col7\" class=\"data row13 col7\" >0.421741</td>\n",
       "                        <td id=\"T_7f3ff3fe_6bba_11ea_a7c8_a3f1c970fed7row13_col8\" class=\"data row13 col8\" >-0.436757</td>\n",
       "                        <td id=\"T_7f3ff3fe_6bba_11ea_a7c8_a3f1c970fed7row13_col9\" class=\"data row13 col9\" >-0.430696</td>\n",
       "                        <td id=\"T_7f3ff3fe_6bba_11ea_a7c8_a3f1c970fed7row13_col10\" class=\"data row13 col10\" >0.345877</td>\n",
       "                        <td id=\"T_7f3ff3fe_6bba_11ea_a7c8_a3f1c970fed7row13_col11\" class=\"data row13 col11\" >-0.391724</td>\n",
       "                        <td id=\"T_7f3ff3fe_6bba_11ea_a7c8_a3f1c970fed7row13_col12\" class=\"data row13 col12\" >-0.344029</td>\n",
       "                        <td id=\"T_7f3ff3fe_6bba_11ea_a7c8_a3f1c970fed7row13_col13\" class=\"data row13 col13\" >1</td>\n",
       "            </tr>\n",
       "    </tbody></table>"
      ],
      "text/plain": [
       "<pandas.io.formats.style.Styler at 0x7f6d87dcddd8>"
      ]
     },
     "execution_count": 4,
     "metadata": {},
     "output_type": "execute_result"
    }
   ],
   "source": [
    "corr = data.corr()\n",
    "corr.style.background_gradient(cmap='coolwarm')"
   ]
  },
  {
   "cell_type": "markdown",
   "metadata": {},
   "source": [
    "**Convert categorical variable into dummy/indicator variables**"
   ]
  },
  {
   "cell_type": "code",
   "execution_count": 5,
   "metadata": {},
   "outputs": [
    {
     "data": {
      "text/html": [
       "<div>\n",
       "<style scoped>\n",
       "    .dataframe tbody tr th:only-of-type {\n",
       "        vertical-align: middle;\n",
       "    }\n",
       "\n",
       "    .dataframe tbody tr th {\n",
       "        vertical-align: top;\n",
       "    }\n",
       "\n",
       "    .dataframe thead th {\n",
       "        text-align: right;\n",
       "    }\n",
       "</style>\n",
       "<table border=\"1\" class=\"dataframe\">\n",
       "  <thead>\n",
       "    <tr style=\"text-align: right;\">\n",
       "      <th></th>\n",
       "      <th>age</th>\n",
       "      <th>sex</th>\n",
       "      <th>trestbps</th>\n",
       "      <th>chol</th>\n",
       "      <th>fbs</th>\n",
       "      <th>restecg</th>\n",
       "      <th>thalach</th>\n",
       "      <th>exang</th>\n",
       "      <th>oldpeak</th>\n",
       "      <th>ca</th>\n",
       "      <th>target</th>\n",
       "      <th>cp_1</th>\n",
       "      <th>cp_2</th>\n",
       "      <th>cp_3</th>\n",
       "      <th>thal_1</th>\n",
       "      <th>thal_2</th>\n",
       "      <th>thal_3</th>\n",
       "      <th>slope_1</th>\n",
       "      <th>slope_2</th>\n",
       "    </tr>\n",
       "  </thead>\n",
       "  <tbody>\n",
       "    <tr>\n",
       "      <th>0</th>\n",
       "      <td>63</td>\n",
       "      <td>1</td>\n",
       "      <td>145</td>\n",
       "      <td>233</td>\n",
       "      <td>1</td>\n",
       "      <td>0</td>\n",
       "      <td>150</td>\n",
       "      <td>0</td>\n",
       "      <td>2.3</td>\n",
       "      <td>0</td>\n",
       "      <td>1</td>\n",
       "      <td>0</td>\n",
       "      <td>0</td>\n",
       "      <td>1</td>\n",
       "      <td>1</td>\n",
       "      <td>0</td>\n",
       "      <td>0</td>\n",
       "      <td>0</td>\n",
       "      <td>0</td>\n",
       "    </tr>\n",
       "    <tr>\n",
       "      <th>1</th>\n",
       "      <td>37</td>\n",
       "      <td>1</td>\n",
       "      <td>130</td>\n",
       "      <td>250</td>\n",
       "      <td>0</td>\n",
       "      <td>1</td>\n",
       "      <td>187</td>\n",
       "      <td>0</td>\n",
       "      <td>3.5</td>\n",
       "      <td>0</td>\n",
       "      <td>1</td>\n",
       "      <td>0</td>\n",
       "      <td>1</td>\n",
       "      <td>0</td>\n",
       "      <td>0</td>\n",
       "      <td>1</td>\n",
       "      <td>0</td>\n",
       "      <td>0</td>\n",
       "      <td>0</td>\n",
       "    </tr>\n",
       "    <tr>\n",
       "      <th>2</th>\n",
       "      <td>41</td>\n",
       "      <td>0</td>\n",
       "      <td>130</td>\n",
       "      <td>204</td>\n",
       "      <td>0</td>\n",
       "      <td>0</td>\n",
       "      <td>172</td>\n",
       "      <td>0</td>\n",
       "      <td>1.4</td>\n",
       "      <td>0</td>\n",
       "      <td>1</td>\n",
       "      <td>1</td>\n",
       "      <td>0</td>\n",
       "      <td>0</td>\n",
       "      <td>0</td>\n",
       "      <td>1</td>\n",
       "      <td>0</td>\n",
       "      <td>0</td>\n",
       "      <td>1</td>\n",
       "    </tr>\n",
       "    <tr>\n",
       "      <th>3</th>\n",
       "      <td>56</td>\n",
       "      <td>1</td>\n",
       "      <td>120</td>\n",
       "      <td>236</td>\n",
       "      <td>0</td>\n",
       "      <td>1</td>\n",
       "      <td>178</td>\n",
       "      <td>0</td>\n",
       "      <td>0.8</td>\n",
       "      <td>0</td>\n",
       "      <td>1</td>\n",
       "      <td>1</td>\n",
       "      <td>0</td>\n",
       "      <td>0</td>\n",
       "      <td>0</td>\n",
       "      <td>1</td>\n",
       "      <td>0</td>\n",
       "      <td>0</td>\n",
       "      <td>1</td>\n",
       "    </tr>\n",
       "    <tr>\n",
       "      <th>4</th>\n",
       "      <td>57</td>\n",
       "      <td>0</td>\n",
       "      <td>120</td>\n",
       "      <td>354</td>\n",
       "      <td>0</td>\n",
       "      <td>1</td>\n",
       "      <td>163</td>\n",
       "      <td>1</td>\n",
       "      <td>0.6</td>\n",
       "      <td>0</td>\n",
       "      <td>1</td>\n",
       "      <td>0</td>\n",
       "      <td>0</td>\n",
       "      <td>0</td>\n",
       "      <td>0</td>\n",
       "      <td>1</td>\n",
       "      <td>0</td>\n",
       "      <td>0</td>\n",
       "      <td>1</td>\n",
       "    </tr>\n",
       "  </tbody>\n",
       "</table>\n",
       "</div>"
      ],
      "text/plain": [
       "   age  sex  trestbps  chol  fbs  restecg  thalach  exang  oldpeak  ca  \\\n",
       "0   63    1       145   233    1        0      150      0      2.3   0   \n",
       "1   37    1       130   250    0        1      187      0      3.5   0   \n",
       "2   41    0       130   204    0        0      172      0      1.4   0   \n",
       "3   56    1       120   236    0        1      178      0      0.8   0   \n",
       "4   57    0       120   354    0        1      163      1      0.6   0   \n",
       "\n",
       "   target  cp_1  cp_2  cp_3  thal_1  thal_2  thal_3  slope_1  slope_2  \n",
       "0       1     0     0     1       1       0       0        0        0  \n",
       "1       1     0     1     0       0       1       0        0        0  \n",
       "2       1     1     0     0       0       1       0        0        1  \n",
       "3       1     1     0     0       0       1       0        0        1  \n",
       "4       1     0     0     0       0       1       0        0        1  "
      ]
     },
     "execution_count": 5,
     "metadata": {},
     "output_type": "execute_result"
    }
   ],
   "source": [
    "cp = pd.get_dummies(data['cp'], prefix = \"cp\", drop_first=True)\n",
    "thal = pd.get_dummies(data['thal'], prefix = \"thal\" , drop_first=True)\n",
    "slope = pd.get_dummies(data['slope'], prefix = \"slope\", drop_first=True)\n",
    "new_data = pd.concat([data, cp, thal, slope], axis=1)\n",
    "new_data.drop(['cp', 'thal', 'slope'], axis=1, inplace=True)\n",
    "new_data.head()"
   ]
  },
  {
   "cell_type": "markdown",
   "metadata": {},
   "source": [
    "**Drop Features**"
   ]
  },
  {
   "cell_type": "code",
   "execution_count": 6,
   "metadata": {},
   "outputs": [
    {
     "data": {
      "text/html": [
       "<div>\n",
       "<style scoped>\n",
       "    .dataframe tbody tr th:only-of-type {\n",
       "        vertical-align: middle;\n",
       "    }\n",
       "\n",
       "    .dataframe tbody tr th {\n",
       "        vertical-align: top;\n",
       "    }\n",
       "\n",
       "    .dataframe thead th {\n",
       "        text-align: right;\n",
       "    }\n",
       "</style>\n",
       "<table border=\"1\" class=\"dataframe\">\n",
       "  <thead>\n",
       "    <tr style=\"text-align: right;\">\n",
       "      <th></th>\n",
       "      <th>age</th>\n",
       "      <th>sex</th>\n",
       "      <th>trestbps</th>\n",
       "      <th>restecg</th>\n",
       "      <th>thalach</th>\n",
       "      <th>exang</th>\n",
       "      <th>oldpeak</th>\n",
       "      <th>ca</th>\n",
       "      <th>target</th>\n",
       "      <th>cp_1</th>\n",
       "      <th>cp_2</th>\n",
       "      <th>cp_3</th>\n",
       "      <th>thal_1</th>\n",
       "      <th>thal_2</th>\n",
       "      <th>thal_3</th>\n",
       "      <th>slope_1</th>\n",
       "      <th>slope_2</th>\n",
       "    </tr>\n",
       "  </thead>\n",
       "  <tbody>\n",
       "    <tr>\n",
       "      <th>0</th>\n",
       "      <td>63</td>\n",
       "      <td>1</td>\n",
       "      <td>145</td>\n",
       "      <td>0</td>\n",
       "      <td>150</td>\n",
       "      <td>0</td>\n",
       "      <td>2.3</td>\n",
       "      <td>0</td>\n",
       "      <td>1</td>\n",
       "      <td>0</td>\n",
       "      <td>0</td>\n",
       "      <td>1</td>\n",
       "      <td>1</td>\n",
       "      <td>0</td>\n",
       "      <td>0</td>\n",
       "      <td>0</td>\n",
       "      <td>0</td>\n",
       "    </tr>\n",
       "    <tr>\n",
       "      <th>1</th>\n",
       "      <td>37</td>\n",
       "      <td>1</td>\n",
       "      <td>130</td>\n",
       "      <td>1</td>\n",
       "      <td>187</td>\n",
       "      <td>0</td>\n",
       "      <td>3.5</td>\n",
       "      <td>0</td>\n",
       "      <td>1</td>\n",
       "      <td>0</td>\n",
       "      <td>1</td>\n",
       "      <td>0</td>\n",
       "      <td>0</td>\n",
       "      <td>1</td>\n",
       "      <td>0</td>\n",
       "      <td>0</td>\n",
       "      <td>0</td>\n",
       "    </tr>\n",
       "    <tr>\n",
       "      <th>2</th>\n",
       "      <td>41</td>\n",
       "      <td>0</td>\n",
       "      <td>130</td>\n",
       "      <td>0</td>\n",
       "      <td>172</td>\n",
       "      <td>0</td>\n",
       "      <td>1.4</td>\n",
       "      <td>0</td>\n",
       "      <td>1</td>\n",
       "      <td>1</td>\n",
       "      <td>0</td>\n",
       "      <td>0</td>\n",
       "      <td>0</td>\n",
       "      <td>1</td>\n",
       "      <td>0</td>\n",
       "      <td>0</td>\n",
       "      <td>1</td>\n",
       "    </tr>\n",
       "    <tr>\n",
       "      <th>3</th>\n",
       "      <td>56</td>\n",
       "      <td>1</td>\n",
       "      <td>120</td>\n",
       "      <td>1</td>\n",
       "      <td>178</td>\n",
       "      <td>0</td>\n",
       "      <td>0.8</td>\n",
       "      <td>0</td>\n",
       "      <td>1</td>\n",
       "      <td>1</td>\n",
       "      <td>0</td>\n",
       "      <td>0</td>\n",
       "      <td>0</td>\n",
       "      <td>1</td>\n",
       "      <td>0</td>\n",
       "      <td>0</td>\n",
       "      <td>1</td>\n",
       "    </tr>\n",
       "    <tr>\n",
       "      <th>4</th>\n",
       "      <td>57</td>\n",
       "      <td>0</td>\n",
       "      <td>120</td>\n",
       "      <td>1</td>\n",
       "      <td>163</td>\n",
       "      <td>1</td>\n",
       "      <td>0.6</td>\n",
       "      <td>0</td>\n",
       "      <td>1</td>\n",
       "      <td>0</td>\n",
       "      <td>0</td>\n",
       "      <td>0</td>\n",
       "      <td>0</td>\n",
       "      <td>1</td>\n",
       "      <td>0</td>\n",
       "      <td>0</td>\n",
       "      <td>1</td>\n",
       "    </tr>\n",
       "  </tbody>\n",
       "</table>\n",
       "</div>"
      ],
      "text/plain": [
       "   age  sex  trestbps  restecg  thalach  exang  oldpeak  ca  target  cp_1  \\\n",
       "0   63    1       145        0      150      0      2.3   0       1     0   \n",
       "1   37    1       130        1      187      0      3.5   0       1     0   \n",
       "2   41    0       130        0      172      0      1.4   0       1     1   \n",
       "3   56    1       120        1      178      0      0.8   0       1     1   \n",
       "4   57    0       120        1      163      1      0.6   0       1     0   \n",
       "\n",
       "   cp_2  cp_3  thal_1  thal_2  thal_3  slope_1  slope_2  \n",
       "0     0     1       1       0       0        0        0  \n",
       "1     1     0       0       1       0        0        0  \n",
       "2     0     0       0       1       0        0        1  \n",
       "3     0     0       0       1       0        0        1  \n",
       "4     0     0       0       1       0        0        1  "
      ]
     },
     "execution_count": 6,
     "metadata": {},
     "output_type": "execute_result"
    }
   ],
   "source": [
    "dataset = new_data.drop(['chol', 'fbs'], axis=1)\n",
    "dataset.head()"
   ]
  },
  {
   "cell_type": "markdown",
   "metadata": {},
   "source": [
    "**Split Data into Features and labels**"
   ]
  },
  {
   "cell_type": "code",
   "execution_count": 7,
   "metadata": {},
   "outputs": [
    {
     "name": "stdout",
     "output_type": "stream",
     "text": [
      "shape of X:  (303, 16)\n"
     ]
    }
   ],
   "source": [
    "X = dataset.iloc[:,:-1].values\n",
    "y = dataset.iloc[:,-1].values\n",
    "print('shape of X: ',X.shape)"
   ]
  },
  {
   "cell_type": "markdown",
   "metadata": {},
   "source": [
    "**split features into train and test**"
   ]
  },
  {
   "cell_type": "code",
   "execution_count": 8,
   "metadata": {},
   "outputs": [],
   "source": [
    "X_train, X_test, y_train, y_test = train_test_split(X, y, test_size=0.2, random_state=0)"
   ]
  },
  {
   "cell_type": "markdown",
   "metadata": {},
   "source": [
    "**Standardization**"
   ]
  },
  {
   "cell_type": "code",
   "execution_count": 9,
   "metadata": {},
   "outputs": [],
   "source": [
    "Sc = StandardScaler()\n",
    "X_train = Sc.fit_transform(X_train)\n",
    "X_test = Sc.transform(X_test)"
   ]
  },
  {
   "cell_type": "markdown",
   "metadata": {},
   "source": [
    "**Finding best parameters for Logistic Regression using Grid Search**"
   ]
  },
  {
   "cell_type": "code",
   "execution_count": 34,
   "metadata": {},
   "outputs": [
    {
     "name": "stdout",
     "output_type": "stream",
     "text": [
      "best accuracy is : 0.9668333333333333\n"
     ]
    },
    {
     "data": {
      "text/plain": [
       "{'C': 0.07, 'penalty': 'l2'}"
      ]
     },
     "execution_count": 34,
     "metadata": {},
     "output_type": "execute_result"
    }
   ],
   "source": [
    "log_reg = LogisticRegression(random_state=0) \n",
    "parameters = [{\"C\":[0.07, 0.08, 0.1, 0.3, 0.5, 0.9, 1], \"penalty\":[\"l1\",\"l2\"]}]     # l1 lasso l2 ridge\n",
    "grid_search = GridSearchCV(estimator = log_reg, param_grid = parameters,        \n",
    "                           cv = 10, n_jobs =  -1)                                   # Instantiate Grid Search model\n",
    " \n",
    "grid_search = grid_search.fit(X_train, y_train)                                     # Train Grid Search model\n",
    "\n",
    "print(\"best accuracy is :\" , grid_search.best_score_)                               # Display best accuracy\n",
    "\n",
    "grid_search.best_params_   # best_parms_  is a method in Grid Search to return The Best with resepct to the Metric "
   ]
  },
  {
   "cell_type": "markdown",
   "metadata": {},
   "source": [
    "**Build, train and test model**"
   ]
  },
  {
   "cell_type": "code",
   "execution_count": 10,
   "metadata": {},
   "outputs": [
    {
     "name": "stdout",
     "output_type": "stream",
     "text": [
      "Train Accuracy score :  0.9752066115702479\n",
      "Test Accuracy score :  0.9508196721311475\n"
     ]
    },
    {
     "data": {
      "text/plain": [
       "[<matplotlib.lines.Line2D at 0x7f6db4f00898>,\n",
       " <matplotlib.lines.Line2D at 0x7f6db4f00a58>]"
      ]
     },
     "execution_count": 10,
     "metadata": {},
     "output_type": "execute_result"
    },
    {
     "data": {
      "image/png": "[encoded data removed]",
      "text/plain": [
       "<Figure size 720x576 with 1 Axes>"
      ]
     },
     "metadata": {
      "needs_background": "light"
     },
     "output_type": "display_data"
    }
   ],
   "source": [
    "log_reg = LogisticRegression(C=1, penalty='l2', random_state=0)     # Instantiate Logistic Regression model\n",
    "log_reg.fit(X_train, y_train)                                       # Train the model\n",
    "print('Train Accuracy score : ', accuracy_score(y_train, log_reg.predict(X_train))) # Display train accuracy of the model\n",
    "print('Test Accuracy score : ', accuracy_score(y_test, log_reg.predict(X_test)))  # Display test accuracy of the model\n",
    "plt.figure(figsize=(10,8))\n",
    "plt.title('Logistic Regression', fontsize=24 , fontstyle='italic')\n",
    "plt.plot(np.sort(y_test), '.', np.sort(log_reg.predict(X_test)), '-')        # Plotting y_predicted vs y_actual"
   ]
  },
  {
   "cell_type": "markdown",
   "metadata": {},
   "source": [
    "**Display Confusion Matrix of Logistic Regression model**"
   ]
  },
  {
   "cell_type": "code",
   "execution_count": 11,
   "metadata": {},
   "outputs": [
    {
     "data": {
      "image/png": "[encoded data removed]",
      "text/plain": [
       "<Figure size 432x288 with 2 Axes>"
      ]
     },
     "metadata": {
      "needs_background": "light"
     },
     "output_type": "display_data"
    }
   ],
   "source": [
    "disp = plot_confusion_matrix(log_reg, X_test, y_test,\n",
    "                              display_labels=['Yes','No'],\n",
    "                              cmap=plt.cm.Blues)"
   ]
  },
  {
   "cell_type": "markdown",
   "metadata": {},
   "source": [
    "**Finding best parameters for KNN using Grid Search**"
   ]
  },
  {
   "cell_type": "code",
   "execution_count": 42,
   "metadata": {},
   "outputs": [
    {
     "name": "stdout",
     "output_type": "stream",
     "text": [
      "best accuracy is : 0.9092687074829933\n"
     ]
    },
    {
     "data": {
      "text/plain": [
       "{'n_neighbors': 8}"
      ]
     },
     "execution_count": 42,
     "metadata": {},
     "output_type": "execute_result"
    }
   ],
   "source": [
    "KNC = KNeighborsClassifier()\n",
    "parameters = [{'n_neighbors': np.arange(16)}]                               # Set parameters of the model\n",
    "\n",
    "\n",
    "grid_search = GridSearchCV(estimator = KNC, param_grid = parameters,        \n",
    "                           cv = 5, n_jobs =  -1)                            # Instantiate Grid Search model              \n",
    " \n",
    "grid_search = grid_search.fit(X_train, y_train)                             # Train Grid Search model\n",
    "\n",
    "print(\"best accuracy is :\" , grid_search.best_score_)                       # Display best accuracy\n",
    "\n",
    "grid_search.best_params_   # best_parms_  is a method in Grid Search to return The Best with resepct to the Metric "
   ]
  },
  {
   "cell_type": "markdown",
   "metadata": {},
   "source": [
    "**Build, train and test model**"
   ]
  },
  {
   "cell_type": "code",
   "execution_count": 12,
   "metadata": {},
   "outputs": [
    {
     "name": "stdout",
     "output_type": "stream",
     "text": [
      "train accuracy 0.9214876033057852\n",
      "test accuracy 1.0\n"
     ]
    },
    {
     "data": {
      "text/plain": [
       "[<matplotlib.lines.Line2D at 0x7f6db4e8e4a8>,\n",
       " <matplotlib.lines.Line2D at 0x7f6db4e3b518>]"
      ]
     },
     "execution_count": 12,
     "metadata": {},
     "output_type": "execute_result"
    },
    {
     "data": {
      "image/png": "[encoded data removed]",
      "text/plain": [
       "<Figure size 720x576 with 1 Axes>"
      ]
     },
     "metadata": {
      "needs_background": "light"
     },
     "output_type": "display_data"
    }
   ],
   "source": [
    "KNC = KNeighborsClassifier(n_neighbors=8)                               # Instantiate KNN model\n",
    "KNC.fit(X_train, y_train)                                               # Train KNN model\n",
    "print('train accuracy', KNC.score(X_train, y_train))                    # Display train accuracy\n",
    "print('test accuracy', KNC.score(X_test, KNC.predict(X_test)))          # Display test accuracy\n",
    "plt.figure(figsize=(10,8))\n",
    "plt.title('KNN Classifier', fontsize=24 , fontstyle='italic')\n",
    "plt.plot(np.sort(y_test), '.', np.sort(KNC.predict(X_test)), '-')       # Plotting y_predicted vs y_actual"
   ]
  },
  {
   "cell_type": "markdown",
   "metadata": {},
   "source": [
    "**Display Confusion Matrix of KNN model**"
   ]
  },
  {
   "cell_type": "code",
   "execution_count": 13,
   "metadata": {},
   "outputs": [
    {
     "data": {
      "image/png": "[encoded data removed]",
      "text/plain": [
       "<Figure size 432x288 with 2 Axes>"
      ]
     },
     "metadata": {
      "needs_background": "light"
     },
     "output_type": "display_data"
    }
   ],
   "source": [
    "disp = plot_confusion_matrix(KNC, X_test, y_test,\n",
    "                              display_labels=['Yes','No'],\n",
    "                              cmap=plt.cm.Blues)"
   ]
  },
  {
   "cell_type": "markdown",
   "metadata": {},
   "source": [
    "**Finding best parameters for SVM using Grid Search**"
   ]
  },
  {
   "cell_type": "code",
   "execution_count": 73,
   "metadata": {},
   "outputs": [
    {
     "name": "stdout",
     "output_type": "stream",
     "text": [
      "best accuracy is : 0.9628333333333334\n"
     ]
    },
    {
     "data": {
      "text/plain": [
       "{'C': 1, 'gamma': 0.05, 'kernel': 'linear'}"
      ]
     },
     "execution_count": 73,
     "metadata": {},
     "output_type": "execute_result"
    }
   ],
   "source": [
    "parameters = [{'C': np.arange(16), 'kernel': ['linear', 'rbf'],\n",
    "               'gamma': [0.05, 0.1, 0.2, 0.3, 0.5, 1]}]                   # Set parameters of the model\n",
    "SVM_cl = SVC(random_state=0)                                              # Instantiate SVM model     \n",
    "grid_search = GridSearchCV(estimator = SVM_cl, param_grid = parameters,        \n",
    "                           cv = 10, n_jobs =  -1)                           # Instantiate Grid Search model\n",
    " \n",
    "grid_search = grid_search.fit(X_train, y_train)                                     # Train Grid Search model\n",
    "\n",
    "print(\"best accuracy is :\" , grid_search.best_score_)                               # Display best accuracy\n",
    "\n",
    "grid_search.best_params_ # best_parms_  is a method in Grid Search to return The Best with resepct to the Metric "
   ]
  },
  {
   "cell_type": "markdown",
   "metadata": {},
   "source": [
    "**Build, train and test model**"
   ]
  },
  {
   "cell_type": "code",
   "execution_count": 14,
   "metadata": {},
   "outputs": [
    {
     "name": "stdout",
     "output_type": "stream",
     "text": [
      "train accuracy 0.9752066115702479\n",
      "test accuracy 1.0\n"
     ]
    },
    {
     "data": {
      "text/plain": [
       "[<matplotlib.lines.Line2D at 0x7f6db4d87b00>,\n",
       " <matplotlib.lines.Line2D at 0x7f6db4c96550>]"
      ]
     },
     "execution_count": 14,
     "metadata": {},
     "output_type": "execute_result"
    },
    {
     "data": {
      "image/png": "[encoded data removed]",
      "text/plain": [
       "<Figure size 720x576 with 1 Axes>"
      ]
     },
     "metadata": {
      "needs_background": "light"
     },
     "output_type": "display_data"
    }
   ],
   "source": [
    "SVM_cl = SVC(C=1, kernel='linear', gamma=0.05, random_state=0)              # Instantiate SVM model \n",
    "SVM_cl.fit(X_train, y_train)                                                # Train SVM model\n",
    "print('train accuracy', SVM_cl.score(X_train, y_train))                     # Display train accuracy\n",
    "print('test accuracy', SVM_cl.score(X_test, SVM_cl.predict(X_test)))        # Display test accuracy\n",
    "plt.figure(figsize=(10,8))\n",
    "plt.title('SVM Classifier', fontsize=24 , fontstyle='italic')\n",
    "plt.plot(np.sort(y_test), '.', np.sort(SVM_cl.predict(X_test)), '-')       # Plotting y_predicted vs y_actual"
   ]
  },
  {
   "cell_type": "markdown",
   "metadata": {},
   "source": [
    "**Display Confusion Matrix of SVM model**"
   ]
  },
  {
   "cell_type": "code",
   "execution_count": 15,
   "metadata": {},
   "outputs": [
    {
     "data": {
      "image/png": "[encoded data removed]",
      "text/plain": [
       "<Figure size 432x288 with 2 Axes>"
      ]
     },
     "metadata": {
      "needs_background": "light"
     },
     "output_type": "display_data"
    }
   ],
   "source": [
    "disp = plot_confusion_matrix(SVM_cl, X_test, y_test,\n",
    "                              display_labels=['Yes','No'],\n",
    "                              cmap=plt.cm.Blues)"
   ]
  },
  {
   "cell_type": "markdown",
   "metadata": {},
   "source": [
    "**Finding best parameters for Decision Tree using Grid Search**"
   ]
  },
  {
   "cell_type": "code",
   "execution_count": 76,
   "metadata": {},
   "outputs": [
    {
     "name": "stdout",
     "output_type": "stream",
     "text": [
      "best accuracy is : 0.9628333333333334\n"
     ]
    },
    {
     "data": {
      "text/plain": [
       "{'criterion': 'gini', 'max_depth': 2, 'min_samples_leaf': 1}"
      ]
     },
     "execution_count": 76,
     "metadata": {},
     "output_type": "execute_result"
    }
   ],
   "source": [
    "DT = DecisionTreeClassifier(random_state=0)                                      # Instantiate Decision Tree model\n",
    "parameters = [{'max_depth': np.arange(16), 'min_samples_leaf': np.arange(16), \n",
    "               'criterion' : ['gini', 'entropy']}]                                   # Set parameters of the model\n",
    "\n",
    "\n",
    "grid_search = GridSearchCV(estimator = DT, param_grid = parameters,        \n",
    "                           cv = 10, n_jobs =  -1)                                  # Instantiate Grid Search model\n",
    " \n",
    "grid_search = grid_search.fit(X_train, y_train)                                     # Train Grid Search model\n",
    "\n",
    "print(\"best accuracy is :\" , grid_search.best_score_)                               # Display best accuracy\n",
    "\n",
    "grid_search.best_params_   # best_parms_  is a method in Grid Search to return The Best with resepct to the Metric "
   ]
  },
  {
   "cell_type": "markdown",
   "metadata": {},
   "source": [
    "**Build, train and test model**"
   ]
  },
  {
   "cell_type": "code",
   "execution_count": 16,
   "metadata": {},
   "outputs": [
    {
     "name": "stdout",
     "output_type": "stream",
     "text": [
      "train accuracy 0.9628099173553719\n",
      "test accuracy 1.0\n"
     ]
    },
    {
     "data": {
      "text/plain": [
       "[<matplotlib.lines.Line2D at 0x7f6db4bdf908>,\n",
       " <matplotlib.lines.Line2D at 0x7f6db4b94438>]"
      ]
     },
     "execution_count": 16,
     "metadata": {},
     "output_type": "execute_result"
    },
    {
     "data": {
      "image/png": "[encoded data removed]",
      "text/plain": [
       "<Figure size 720x576 with 1 Axes>"
      ]
     },
     "metadata": {
      "needs_background": "light"
     },
     "output_type": "display_data"
    }
   ],
   "source": [
    "DT = DecisionTreeClassifier(max_depth=2, min_samples_leaf=1,\n",
    "                            criterion='gini', random_state=0)          # Instantiate Decision Tree model\n",
    "DT.fit(X_train, y_train)                                                        # Train Random Forest model\n",
    "print('train accuracy', DT.score(X_train, y_train))                             # Display train accuracy\n",
    "print('test accuracy', DT.score(X_test, DT.predict(X_test)))                    # Display test accuracy\n",
    "plt.figure(figsize=(10,8))\n",
    "plt.title('Decision Tree Classifier', fontsize=24 , fontstyle='italic')\n",
    "plt.plot(np.sort(y_test), '.', np.sort(DT.predict(X_test)), '-')            # Plotting y_predicted vs y_actual"
   ]
  },
  {
   "cell_type": "markdown",
   "metadata": {},
   "source": [
    "**Display Confusion Matrix of Decision Tree model**"
   ]
  },
  {
   "cell_type": "code",
   "execution_count": 17,
   "metadata": {},
   "outputs": [
    {
     "data": {
      "image/png": "[encoded data removed]",
      "text/plain": [
       "<Figure size 432x288 with 2 Axes>"
      ]
     },
     "metadata": {
      "needs_background": "light"
     },
     "output_type": "display_data"
    }
   ],
   "source": [
    "disp = plot_confusion_matrix(DT, X_test, y_test,\n",
    "                              display_labels=['Yes','No'],\n",
    "                              cmap=plt.cm.Blues)"
   ]
  },
  {
   "cell_type": "markdown",
   "metadata": {},
   "source": [
    "**Finding best parameters for Random Forest using Grid Search**"
   ]
  },
  {
   "cell_type": "code",
   "execution_count": 79,
   "metadata": {},
   "outputs": [
    {
     "name": "stdout",
     "output_type": "stream",
     "text": [
      "Fitting 5 folds for each of 81 candidates, totalling 405 fits\n"
     ]
    },
    {
     "name": "stderr",
     "output_type": "stream",
     "text": [
      "[Parallel(n_jobs=-1)]: Using backend LokyBackend with 8 concurrent workers.\n",
      "[Parallel(n_jobs=-1)]: Done  34 tasks      | elapsed:    2.9s\n",
      "[Parallel(n_jobs=-1)]: Done 184 tasks      | elapsed:   17.4s\n",
      "[Parallel(n_jobs=-1)]: Done 405 out of 405 | elapsed:   46.2s finished\n"
     ]
    },
    {
     "name": "stdout",
     "output_type": "stream",
     "text": [
      "best accuracy is : 0.9465136054421768\n"
     ]
    },
    {
     "data": {
      "text/plain": [
       "{'max_depth': 14,\n",
       " 'min_samples_leaf': 3,\n",
       " 'min_samples_split': 4,\n",
       " 'n_estimators': 200}"
      ]
     },
     "execution_count": 79,
     "metadata": {},
     "output_type": "execute_result"
    }
   ],
   "source": [
    "param_grid = {\n",
    "    'max_depth': [14, 15, 17],\n",
    "    'min_samples_leaf': [1, 2, 3],\n",
    "    'min_samples_split': [4, 5, 6],\n",
    "    'n_estimators': [200, 300, 500]}                     # Set parameters of the model\n",
    "RF = RandomForestClassifier(random_state=0)                             # Instantiate Random Forest model\n",
    "grid_search = GridSearchCV(estimator = RF, param_grid = param_grid, \n",
    "                          cv = 5, n_jobs = -1, verbose = 1)          # Instantiate Grid Search model\n",
    "grid_search = grid_search.fit(X_train, y_train)                      # Train Grid Search model\n",
    "\n",
    "print(\"best accuracy is :\" , grid_search.best_score_)                # Display best accuracy\n",
    "\n",
    "grid_search.best_params_    # best_parms_  is a method in Grid Search to return The Best with resepct to the Metric "
   ]
  },
  {
   "cell_type": "markdown",
   "metadata": {},
   "source": [
    "**Build, train and test model**"
   ]
  },
  {
   "cell_type": "code",
   "execution_count": 18,
   "metadata": {},
   "outputs": [
    {
     "name": "stdout",
     "output_type": "stream",
     "text": [
      "train accuracy 0.9669421487603306\n",
      "test accuracy 1.0\n"
     ]
    },
    {
     "data": {
      "text/plain": [
       "[<matplotlib.lines.Line2D at 0x7f6db4ae8f98>,\n",
       " <matplotlib.lines.Line2D at 0x7f6db4aafef0>]"
      ]
     },
     "execution_count": 18,
     "metadata": {},
     "output_type": "execute_result"
    },
    {
     "data": {
      "image/png": "[encoded data removed]",
      "text/plain": [
       "<Figure size 720x576 with 1 Axes>"
      ]
     },
     "metadata": {
      "needs_background": "light"
     },
     "output_type": "display_data"
    }
   ],
   "source": [
    "RF_clf = RandomForestClassifier(n_estimators=200, max_depth=14,\n",
    "                                min_samples_leaf=3, min_samples_split=4,\n",
    "                                random_state=0)                             # Instantiate Random forest model\n",
    "RF_clf.fit(X_train, y_train)                                                # Train Random Forest model\n",
    "print('train accuracy', RF_clf.score(X_train, y_train))                     # Display train accuracy\n",
    "print('test accuracy', RF_clf.score(X_test, RF_clf.predict(X_test)))        # Display test accuracy\n",
    "plt.figure(figsize=(10,8))\n",
    "plt.title('Random Forest Classifier', fontsize=24 , fontstyle='italic')\n",
    "plt.plot(np.sort(y_test), '.', np.sort(RF_clf.predict(X_test)), '-')        # Plotting y_predicted vs y_actual"
   ]
  },
  {
   "cell_type": "markdown",
   "metadata": {},
   "source": [
    "**Display Confusion Matrix of Random Forest Classifier model**"
   ]
  },
  {
   "cell_type": "code",
   "execution_count": 19,
   "metadata": {},
   "outputs": [
    {
     "data": {
      "image/png": "[encoded data removed]",
      "text/plain": [
       "<Figure size 432x288 with 2 Axes>"
      ]
     },
     "metadata": {
      "needs_background": "light"
     },
     "output_type": "display_data"
    }
   ],
   "source": [
    "disp = plot_confusion_matrix(RF_clf, X_test, y_test,\n",
    "                              display_labels=['Yes','No'],\n",
    "                              cmap=plt.cm.Blues)"
   ]
  },
  {
   "cell_type": "markdown",
   "metadata": {},
   "source": [
    "**Finding best parameters for AdaBoost by Grid Search**"
   ]
  },
  {
   "cell_type": "code",
   "execution_count": 100,
   "metadata": {},
   "outputs": [
    {
     "name": "stdout",
     "output_type": "stream",
     "text": [
      "Fitting 10 folds for each of 20 candidates, totalling 200 fits\n"
     ]
    },
    {
     "name": "stderr",
     "output_type": "stream",
     "text": [
      "[Parallel(n_jobs=-1)]: Using backend LokyBackend with 8 concurrent workers.\n",
      "[Parallel(n_jobs=-1)]: Done  25 tasks      | elapsed:    1.5s\n",
      "[Parallel(n_jobs=-1)]: Done 146 tasks      | elapsed:   11.1s\n",
      "[Parallel(n_jobs=-1)]: Done 200 out of 200 | elapsed:   17.5s finished\n"
     ]
    },
    {
     "name": "stdout",
     "output_type": "stream",
     "text": [
      "best accuracy is : 0.9545\n"
     ]
    },
    {
     "data": {
      "text/plain": [
       "{'learning_rate': 0.005, 'n_estimators': 200}"
      ]
     },
     "execution_count": 100,
     "metadata": {},
     "output_type": "execute_result"
    }
   ],
   "source": [
    "param_grid = {\n",
    "    'n_estimators': [100, 200, 300,400],\n",
    "    'learning_rate': [0.005, 0.01, 0.03, 0.05, 0.1]}     # Set parameters of the model\n",
    "AB = AdaBoostClassifier(random_state=0)                     # Instantiate AdaBoost Classifier model\n",
    "grid_search = GridSearchCV(estimator = AB, param_grid = param_grid, \n",
    "                          cv = 10, n_jobs = -1, verbose=2)             # Instantiate Grid Search model\n",
    "grid_search = grid_search.fit(X_train, y_train)                       # Train Gird Search model\n",
    "print(\"best accuracy is :\" , grid_search.best_score_)                 # Display best accuracy\n",
    "grid_search.best_params_    # best_parms_  is a method in Grid Search to return The Best with resepct to the Metric"
   ]
  },
  {
   "cell_type": "markdown",
   "metadata": {},
   "source": [
    "**Build, train and test the model**"
   ]
  },
  {
   "cell_type": "code",
   "execution_count": 20,
   "metadata": {},
   "outputs": [
    {
     "name": "stdout",
     "output_type": "stream",
     "text": [
      "train accuracy 0.9628099173553719\n",
      "test accuracy 1.0\n"
     ]
    },
    {
     "data": {
      "text/plain": [
       "[<matplotlib.lines.Line2D at 0x7f6db4993fd0>,\n",
       " <matplotlib.lines.Line2D at 0x7f6db49434e0>]"
      ]
     },
     "execution_count": 20,
     "metadata": {},
     "output_type": "execute_result"
    },
    {
     "data": {
      "image/png": "[encoded data removed]",
      "text/plain": [
       "<Figure size 720x576 with 1 Axes>"
      ]
     },
     "metadata": {
      "needs_background": "light"
     },
     "output_type": "display_data"
    }
   ],
   "source": [
    "AB = AdaBoostClassifier(n_estimators=200 ,\n",
    "                        learning_rate=0.005, random_state=0)         # Instantiate AdaBoost Classifier model\n",
    "AB.fit(X_train, y_train)                                             # Train Adaboost Classifier model\n",
    "print('train accuracy', AB.score(X_train, y_train))                  # Display train accuracy\n",
    "print('test accuracy', AB.score(X_test, AB.predict(X_test)))         # display test accuracy\n",
    "plt.figure(figsize=(10,8))\n",
    "plt.title('AdaBoosting Classifier', fontsize=24 , fontstyle='italic')\n",
    "plt.plot(np.sort(y_test), '.', np.sort(AB.predict(X_test)), '-')     # Plotting y_predicted vs y_actual"
   ]
  },
  {
   "cell_type": "markdown",
   "metadata": {},
   "source": [
    "**Display Confusion Matrix of AdaBoost Classifier model**"
   ]
  },
  {
   "cell_type": "code",
   "execution_count": 21,
   "metadata": {},
   "outputs": [
    {
     "data": {
      "image/png": "[encoded data removed]",
      "text/plain": [
       "<Figure size 432x288 with 2 Axes>"
      ]
     },
     "metadata": {
      "needs_background": "light"
     },
     "output_type": "display_data"
    }
   ],
   "source": [
    "disp = plot_confusion_matrix(AB, X_test, y_test,\n",
    "                              display_labels=['Yes','No'],\n",
    "                              cmap=plt.cm.Blues)"
   ]
  },
  {
   "cell_type": "markdown",
   "metadata": {},
   "source": [
    "**Finding best parameters for Gradient Boosting Regressor by Grid Search**"
   ]
  },
  {
   "cell_type": "code",
   "execution_count": 105,
   "metadata": {},
   "outputs": [
    {
     "name": "stdout",
     "output_type": "stream",
     "text": [
      "Fitting 10 folds for each of 576 candidates, totalling 5760 fits\n"
     ]
    },
    {
     "name": "stderr",
     "output_type": "stream",
     "text": [
      "[Parallel(n_jobs=-1)]: Using backend LokyBackend with 8 concurrent workers.\n",
      "[Parallel(n_jobs=-1)]: Done  34 tasks      | elapsed:    0.7s\n",
      "[Parallel(n_jobs=-1)]: Done 276 tasks      | elapsed:    4.8s\n",
      "[Parallel(n_jobs=-1)]: Done 682 tasks      | elapsed:   11.7s\n",
      "[Parallel(n_jobs=-1)]: Done 1248 tasks      | elapsed:   26.6s\n",
      "[Parallel(n_jobs=-1)]: Done 1978 tasks      | elapsed:   45.8s\n",
      "[Parallel(n_jobs=-1)]: Done 2868 tasks      | elapsed:  1.1min\n",
      "[Parallel(n_jobs=-1)]: Done 3922 tasks      | elapsed:  1.6min\n",
      "[Parallel(n_jobs=-1)]: Done 5136 tasks      | elapsed:  2.0min\n"
     ]
    },
    {
     "name": "stdout",
     "output_type": "stream",
     "text": [
      "best accuracy is : 0.9545\n"
     ]
    },
    {
     "name": "stderr",
     "output_type": "stream",
     "text": [
      "[Parallel(n_jobs=-1)]: Done 5760 out of 5760 | elapsed:  2.3min finished\n"
     ]
    },
    {
     "data": {
      "text/plain": [
       "{'learning_rate': 0.9,\n",
       " 'max_depth': 8,\n",
       " 'max_features': 6,\n",
       " 'min_samples_leaf': 12,\n",
       " 'n_estimators': 100}"
      ]
     },
     "execution_count": 105,
     "metadata": {},
     "output_type": "execute_result"
    }
   ],
   "source": [
    "GB = GradientBoostingClassifier(random_state=0)             # Instantiate Gradient Boosting Classifier model\n",
    "param = {\"n_estimators\"     : [100, 200, 300],\n",
    "         \"max_depth\"        : [5, 8, 12, 20],\n",
    "         \"min_samples_leaf\" : [4, 8, 12, 15],\n",
    "         \"learning_rate\"    : [0.5, 0.7, 0.9],\n",
    "         \"max_features\"     : [1, 3, 4, 6]}                                 # Set parameters of the model\n",
    "grid_search = GridSearchCV(estimator = GB, param_grid = param, \n",
    "                          cv = 10, n_jobs = -1, verbose = 2)               # Instantiate Grid Search model\n",
    "grid_search = grid_search.fit(X_train, y_train)                           # Train Gird Search model\n",
    "\n",
    "print(\"best accuracy is :\" , grid_search.best_score_)                     # Display best accuracy             \n",
    "\n",
    "grid_search.best_params_     # best_parms_  is a method in Grid Search to return The Best with resepct to the Metric"
   ]
  },
  {
   "cell_type": "markdown",
   "metadata": {},
   "source": [
    "**Build, train and test the model**"
   ]
  },
  {
   "cell_type": "code",
   "execution_count": 22,
   "metadata": {},
   "outputs": [
    {
     "name": "stdout",
     "output_type": "stream",
     "text": [
      "train accuracy 1.0\n",
      "test accuracy 1.0\n"
     ]
    },
    {
     "data": {
      "text/plain": [
       "[<matplotlib.lines.Line2D at 0x7f6db4c4b1d0>,\n",
       " <matplotlib.lines.Line2D at 0x7f6db4e74278>]"
      ]
     },
     "execution_count": 22,
     "metadata": {},
     "output_type": "execute_result"
    },
    {
     "data": {
      "image/png": "[encoded data removed]",
      "text/plain": [
       "<Figure size 720x576 with 1 Axes>"
      ]
     },
     "metadata": {
      "needs_background": "light"
     },
     "output_type": "display_data"
    }
   ],
   "source": [
    "GB_clf = GradientBoostingClassifier(n_estimators=100, learning_rate=0.9,\n",
    "                                    min_samples_leaf=12, max_depth=8,\n",
    "                                    max_features=6, random_state=0) # Instantiate Gradient Boosting Classifier model\n",
    "GB_clf.fit(X_train, y_train)                                        # Train XG Boost Classifier model\n",
    "print('train accuracy', GB_clf.score(X_train, y_train))               # Display train accuracy\n",
    "print('test accuracy', GB_clf.score(X_test, GB_clf.predict(X_test)))   # Display test accuracy\n",
    "plt.figure(figsize=(10,8))\n",
    "plt.title('Gradient Boosting Classifier', fontsize=24 , fontstyle='italic')\n",
    "plt.plot(np.sort(y_test), '.', np.sort(GB_clf.predict(X_test)), '-')    # Plotting y_predicted vs y_actual"
   ]
  },
  {
   "cell_type": "markdown",
   "metadata": {},
   "source": [
    "**Display Confusion Matrix of Gradient Boost Classifier model**"
   ]
  },
  {
   "cell_type": "code",
   "execution_count": 23,
   "metadata": {},
   "outputs": [
    {
     "data": {
      "image/png": "[encoded data removed]",
      "text/plain": [
       "<Figure size 432x288 with 2 Axes>"
      ]
     },
     "metadata": {
      "needs_background": "light"
     },
     "output_type": "display_data"
    }
   ],
   "source": [
    "disp = plot_confusion_matrix(GB_clf, X_test, y_test,\n",
    "                              display_labels=['Yes','No'],\n",
    "                              cmap=plt.cm.Blues)"
   ]
  },
  {
   "cell_type": "markdown",
   "metadata": {},
   "source": [
    "**Finding best parameters for XGBoost by Grid Search**"
   ]
  },
  {
   "cell_type": "code",
   "execution_count": 120,
   "metadata": {},
   "outputs": [
    {
     "name": "stdout",
     "output_type": "stream",
     "text": [
      "Fitting 5 folds for each of 3072 candidates, totalling 15360 fits\n"
     ]
    },
    {
     "name": "stderr",
     "output_type": "stream",
     "text": [
      "[Parallel(n_jobs=-1)]: Using backend LokyBackend with 8 concurrent workers.\n",
      "[Parallel(n_jobs=-1)]: Done  25 tasks      | elapsed:    1.1s\n",
      "[Parallel(n_jobs=-1)]: Done 607 tasks      | elapsed:    4.6s\n",
      "[Parallel(n_jobs=-1)]: Done 1825 tasks      | elapsed:   11.3s\n",
      "[Parallel(n_jobs=-1)]: Done 3523 tasks      | elapsed:   26.4s\n",
      "[Parallel(n_jobs=-1)]: Done 5713 tasks      | elapsed:   45.8s\n",
      "[Parallel(n_jobs=-1)]: Done 8383 tasks      | elapsed:  1.2min\n",
      "[Parallel(n_jobs=-1)]: Done 11545 tasks      | elapsed:  1.6min\n",
      "[Parallel(n_jobs=-1)]: Done 15187 tasks      | elapsed:  2.2min\n"
     ]
    },
    {
     "name": "stdout",
     "output_type": "stream",
     "text": [
      "best accuracy is : 0.9630952380952381\n"
     ]
    },
    {
     "name": "stderr",
     "output_type": "stream",
     "text": [
      "[Parallel(n_jobs=-1)]: Done 15360 out of 15360 | elapsed:  2.2min finished\n"
     ]
    },
    {
     "data": {
      "text/plain": [
       "{'colsample_bytree': 0.7,\n",
       " 'gamma': 0.8,\n",
       " 'learning_rate': 0.1,\n",
       " 'max_depth': 5,\n",
       " 'min_child_weight': 1,\n",
       " 'n_estimators': 100,\n",
       " 'subsample': 0.7}"
      ]
     },
     "execution_count": 120,
     "metadata": {},
     "output_type": "execute_result"
    }
   ],
   "source": [
    "XG = XGBClassifier(random_state=0)                           # Instantiate XG Boost Classifier model\n",
    "param = {\"n_estimators\"     : [100, 200,300],\n",
    "         \"learning_rate\"    : [0.1, 0.3, 0.5, 0.6],\n",
    "         \"max_depth\"        : [2, 3, 4, 5],\n",
    "         \"min_child_weight\" : [1, 2, 3, 4],\n",
    "         \"gamma\"            : [0.5, 0.8, 0.9, 1],\n",
    "         \"colsample_bytree\" : [0.7, 0.8],\n",
    "         \"subsample\"        : [0.7, 0.8],\n",
    "         }                                                        # Set parameters of the model          \n",
    "grid_search = GridSearchCV(estimator = XG, param_grid = param, \n",
    "                          cv = 5, n_jobs = -1, verbose = 2)          # Instantiate Grid Search model\n",
    "grid_search = grid_search.fit(X_train, y_train)                      # Train Gird Search model\n",
    "\n",
    "print(\"best accuracy is :\" , grid_search.best_score_)                # Display best accuracy\n",
    "\n",
    "grid_search.best_params_    # best_parms_  is a method in Grid Search to return The Best with resepct to the Metric"
   ]
  },
  {
   "cell_type": "markdown",
   "metadata": {},
   "source": [
    "**Build, train and test the model**"
   ]
  },
  {
   "cell_type": "code",
   "execution_count": 24,
   "metadata": {},
   "outputs": [
    {
     "name": "stdout",
     "output_type": "stream",
     "text": [
      "train accuracy 0.9793388429752066\n",
      "test accuracy 0.9836065573770492\n"
     ]
    },
    {
     "data": {
      "text/plain": [
       "[<matplotlib.lines.Line2D at 0x7f6db4cfc160>,\n",
       " <matplotlib.lines.Line2D at 0x7f6db4eb95f8>]"
      ]
     },
     "execution_count": 24,
     "metadata": {},
     "output_type": "execute_result"
    },
    {
     "data": {
      "image/png": "[encoded data removed]",
      "text/plain": [
       "<Figure size 720x576 with 1 Axes>"
      ]
     },
     "metadata": {
      "needs_background": "light"
     },
     "output_type": "display_data"
    }
   ],
   "source": [
    "XGB = XGBClassifier(n_estimators=100, gamma=0.8, learning_rate=0.1,\n",
    "                      max_depth=5, min_child_weight=1, subsample=0.7,\n",
    "                      colsample_bytree=0.7, random_state=0)                 # Instantiate XG Boost Classifier model\n",
    "XGB.fit(X_train, y_train)                                                   # Train XG Boost Classifier model\n",
    "print('train accuracy', XGB.score(X_train, y_train))                        # Display train accuracy\n",
    "print('test accuracy', XGB.score(X_test, GB_clf.predict(X_test)))           # Display test accuracy\n",
    "plt.figure(figsize=(10,8))\n",
    "plt.title('XG Boosting Classifier', fontsize=24 , fontstyle='italic')                                           \n",
    "plt.plot(np.sort(y_test), '.', np.sort(XGB.predict(X_test)), '-')           # Plotting y_predicted vs y_actual"
   ]
  },
  {
   "cell_type": "markdown",
   "metadata": {},
   "source": [
    "**Display Confusion Matrix of XGBoost model**"
   ]
  },
  {
   "cell_type": "code",
   "execution_count": 25,
   "metadata": {},
   "outputs": [
    {
     "data": {
      "image/png": "[encoded data removed]",
      "text/plain": [
       "<Figure size 432x288 with 2 Axes>"
      ]
     },
     "metadata": {
      "needs_background": "light"
     },
     "output_type": "display_data"
    }
   ],
   "source": [
    "disp = plot_confusion_matrix(XGB, X_test, y_test,\n",
    "                              display_labels=['Yes','No'],\n",
    "                              cmap=plt.cm.Blues)"
   ]
  },
  {
   "cell_type": "code",
   "execution_count": null,
   "metadata": {},
   "outputs": [],
   "source": []
  }
 ],
 "metadata": {
  "kernelspec": {
   "display_name": "Python 3",
   "language": "python",
   "name": "python3"
  },
  "language_info": {
   "codemirror_mode": {
    "name": "ipython",
    "version": 3
   },
   "file_extension": ".py",
   "mimetype": "text/x-python",
   "name": "python",
   "nbconvert_exporter": "python",
   "pygments_lexer": "ipython3",
   "version": "3.7.3"
  }
 },
 "nbformat": 4,
 "nbformat_minor": 4
}
